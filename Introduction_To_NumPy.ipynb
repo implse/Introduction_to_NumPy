{
 "cells": [
  {
   "cell_type": "markdown",
   "id": "bb887048",
   "metadata": {},
   "source": [
    "# Introduction To NumPy"
   ]
  },
  {
   "cell_type": "markdown",
   "id": "d537e8ca",
   "metadata": {},
   "source": [
    "## What is NumPy"
   ]
  },
  {
   "cell_type": "markdown",
   "id": "418cec39",
   "metadata": {},
   "source": [
    "`NumPy`, short for `Numerical Python`, is one of the most important package for numerical computing in `Python`. `Numpy` is designed for efficiency on large `array` of `data`."
   ]
  },
  {
   "cell_type": "markdown",
   "id": "cfb7977a",
   "metadata": {},
   "source": [
    "## NumPy `ndarray` vs Python `list`"
   ]
  },
  {
   "cell_type": "markdown",
   "id": "e8308dbc",
   "metadata": {},
   "source": [
    "The core component in `NumPy` is the `ndarray` or `multi-dimensional array`. The `NumPy ndarray` is a high-performance multidimensional `array object` designed specifically to perform math operations, linear algebra, and probability calculations.\n",
    "\n",
    "In `Numpy`, an `ndarray` describes a collection of elements, similar to a `list`.\n",
    "\n",
    "`NumPy ndarray` are faster and more compact than `Python list`. \n",
    "\n",
    "`NumPy` operations perform complex computations on entire `ndarray` without the need for Python `for loops`.\n",
    "\n",
    "`NumPy ndarray` uses less memory to store `data` and supports more `data types`as compared to Python.\n",
    "\n",
    "`NumPy` uses algorithms written in `C` that perform operations in nanoseconds rather than seconds.\n",
    "\n",
    "The `NumPy` library takes advantage of a processor feature called `Single Instruction Multiple Data` (SIMD) to process data faster."
   ]
  },
  {
   "cell_type": "markdown",
   "id": "7c3caa14",
   "metadata": {},
   "source": [
    "## The `ndarray`"
   ]
  },
  {
   "cell_type": "markdown",
   "id": "f2fef1c9",
   "metadata": {},
   "source": [
    "The fundamental object of `NumPy` is the `ndarray` which stands for `multi-dimensional array` which provides `vectorized` arithmetic operations. The word `n-dimensional` refers to the fact that `ndarrays` can have one or more dimensions. \n",
    "\n",
    "- The type of `values` in the `ndarray` is specified by a separate `data-type object` parameter named `dtype`.\n",
    "\n",
    "- The number of dimensions in an `ndarray` is defined by its `shape`, which is a `tuple` of `n` non-negative integers that specify the size of each dimension."
   ]
  },
  {
   "cell_type": "markdown",
   "id": "aee65dab",
   "metadata": {},
   "source": [
    "## Import `NumPy`"
   ]
  },
  {
   "cell_type": "code",
   "execution_count": 2,
   "id": "19206fae-3b3d-4c36-a056-669aa7646f6b",
   "metadata": {},
   "outputs": [],
   "source": [
    "import numpy as np"
   ]
  },
  {
   "cell_type": "code",
   "execution_count": 30,
   "id": "5d56a0ec",
   "metadata": {},
   "outputs": [
    {
     "data": {
      "text/plain": [
       "'1.20.3'"
      ]
     },
     "execution_count": 30,
     "metadata": {},
     "output_type": "execute_result"
    }
   ],
   "source": [
    "# Check version\n",
    "np.__version__"
   ]
  },
  {
   "cell_type": "markdown",
   "id": "182b5160",
   "metadata": {},
   "source": [
    "## NumPy `ndarray` Object"
   ]
  },
  {
   "cell_type": "markdown",
   "id": "d3e8d4d4",
   "metadata": {},
   "source": [
    "To generate a new NumPy `ndarray` objects, we must call the `np.ndarray()` constructor."
   ]
  },
  {
   "cell_type": "markdown",
   "id": "830eaee5-0d03-4624-97bb-a9b1b2ec5829",
   "metadata": {},
   "source": [
    "### Creating a NumPy Array from a Range of Values with `np.arange`"
   ]
  },
  {
   "cell_type": "markdown",
   "id": "59aa8742",
   "metadata": {},
   "source": [
    "Create an one dimension `ndarray` using `arange` function, which is similar to python's built-in `range` function."
   ]
  },
  {
   "cell_type": "code",
   "execution_count": 4,
   "id": "beb3b2d9",
   "metadata": {},
   "outputs": [
    {
     "name": "stdout",
     "output_type": "stream",
     "text": [
      "[ 1  2  3  4  5  6  7  8  9 10 11 12 13 14]\n",
      "<class 'numpy.ndarray'>\n",
      "1\n",
      "(14,)\n",
      "int32\n",
      "4\n"
     ]
    }
   ],
   "source": [
    "# int range\n",
    "a = np.arange(1, 15)\n",
    "print(a)\n",
    "print(type(a))\n",
    "print(a.ndim)\n",
    "print(a.shape)\n",
    "print(a.dtype)\n",
    "print(a.itemsize)"
   ]
  },
  {
   "cell_type": "code",
   "execution_count": 5,
   "id": "cd3eec3a",
   "metadata": {},
   "outputs": [
    {
     "name": "stdout",
     "output_type": "stream",
     "text": [
      "[ 1.  2.  3.  4.  5.  6.  7.  8.  9. 10. 11. 12. 13. 14.]\n",
      "<class 'numpy.ndarray'>\n",
      "1\n",
      "(14,)\n",
      "float64\n",
      "8\n"
     ]
    }
   ],
   "source": [
    "# float range\n",
    "a = np.arange(1.0, 15.0)\n",
    "print(a)\n",
    "print(type(a))\n",
    "print(a.ndim)\n",
    "print(a.shape)\n",
    "print(a.dtype)\n",
    "print(a.itemsize)"
   ]
  },
  {
   "cell_type": "code",
   "execution_count": 6,
   "id": "1b7dca2b",
   "metadata": {},
   "outputs": [
    {
     "name": "stdout",
     "output_type": "stream",
     "text": [
      "[ 1  3  5  7  9 11 13]\n",
      "<class 'numpy.ndarray'>\n",
      "1\n",
      "(7,)\n",
      "int32\n",
      "4\n"
     ]
    }
   ],
   "source": [
    "# step range parameter\n",
    "a = np.arange(1, 15, 2)\n",
    "print(a)\n",
    "print(type(a))\n",
    "print(a.ndim)\n",
    "print(a.shape)\n",
    "print(a.dtype)\n",
    "print(a.itemsize)"
   ]
  },
  {
   "cell_type": "markdown",
   "id": "5eb9b98b-331e-4b7e-91eb-77059234d2c7",
   "metadata": {},
   "source": [
    "### Creating a NumPy Array from Python List with `np.array`"
   ]
  },
  {
   "cell_type": "markdown",
   "id": "3f17f448-b4ec-4348-a240-786c3fd5c8de",
   "metadata": {},
   "source": [
    "Create a `ndarray` from a python `list`."
   ]
  },
  {
   "cell_type": "code",
   "execution_count": 7,
   "id": "cf8f9585-8473-4928-aa44-3dff76f26033",
   "metadata": {},
   "outputs": [
    {
     "name": "stdout",
     "output_type": "stream",
     "text": [
      "[0, 1, 2, 3, 4, 5, 6, 7, 8, 9, 10, 11, 12, 13, 14]\n",
      "<class 'list'>\n",
      "[ 0  1  2  3  4  5  6  7  8  9 10 11 12 13 14]\n",
      "<class 'numpy.ndarray'>\n",
      "1\n",
      "(15,)\n",
      "int32\n",
      "4\n"
     ]
    }
   ],
   "source": [
    "b = [i for i in range(15)]\n",
    "print(b)\n",
    "print(type(b))\n",
    "\n",
    "c = np.array(b)\n",
    "print(c)\n",
    "print(type(c))\n",
    "print(c.ndim)\n",
    "print(c.shape)\n",
    "print(c.dtype)\n",
    "print(c.itemsize)"
   ]
  },
  {
   "cell_type": "markdown",
   "id": "5d05263e-e99d-45ad-87f9-bdf3b7010a82",
   "metadata": {},
   "source": [
    "### Creating a NumPy Array of Zeros with `np.zeros`"
   ]
  },
  {
   "cell_type": "markdown",
   "id": "0785ea65",
   "metadata": {},
   "source": [
    "The `np.zeros` function creates an `array` containing `n` number of `zeros`"
   ]
  },
  {
   "cell_type": "code",
   "execution_count": 8,
   "id": "70229277-db06-49ff-8d27-a88f15bfc256",
   "metadata": {
    "scrolled": true
   },
   "outputs": [
    {
     "name": "stdout",
     "output_type": "stream",
     "text": [
      "[0. 0. 0. 0. 0. 0. 0. 0. 0. 0.]\n",
      "<class 'numpy.ndarray'>\n",
      "1\n",
      "(10,)\n",
      "float64\n",
      "8\n"
     ]
    }
   ],
   "source": [
    "# 1 Dimension np.arrays of zeros\n",
    "One_dim_array_of_zeros = np.zeros(10)\n",
    "print(One_dim_array_of_zeros)\n",
    "print(type(One_dim_array_of_zeros))\n",
    "print(One_dim_array_of_zeros.ndim)\n",
    "print(One_dim_array_of_zeros.shape)\n",
    "print(One_dim_array_of_zeros.dtype)\n",
    "print(One_dim_array_of_zeros.itemsize)"
   ]
  },
  {
   "cell_type": "code",
   "execution_count": 9,
   "id": "e5752e18",
   "metadata": {},
   "outputs": [
    {
     "name": "stdout",
     "output_type": "stream",
     "text": [
      "[[0. 0. 0. 0. 0.]\n",
      " [0. 0. 0. 0. 0.]\n",
      " [0. 0. 0. 0. 0.]]\n",
      "<class 'numpy.ndarray'>\n",
      "2\n",
      "(3, 5)\n",
      "float64\n",
      "8\n"
     ]
    }
   ],
   "source": [
    "# 2 Dimensions np.arrays of zeros\n",
    "Two_dim_array_of_zeros = np.zeros((3, 5))\n",
    "print(Two_dim_array_of_zeros)\n",
    "print(type(Two_dim_array_of_zeros))\n",
    "print(Two_dim_array_of_zeros.ndim)\n",
    "print(Two_dim_array_of_zeros.shape)\n",
    "print(Two_dim_array_of_zeros.dtype)\n",
    "print(Two_dim_array_of_zeros.itemsize)"
   ]
  },
  {
   "cell_type": "markdown",
   "id": "84d09e03",
   "metadata": {},
   "source": [
    "### Creating a NumPy Array of Ones with `np.ones`"
   ]
  },
  {
   "cell_type": "code",
   "execution_count": 10,
   "id": "dbc0817f",
   "metadata": {},
   "outputs": [
    {
     "name": "stdout",
     "output_type": "stream",
     "text": [
      "[1. 1. 1. 1. 1. 1. 1. 1. 1. 1.]\n",
      "<class 'numpy.ndarray'>\n",
      "1\n",
      "(10,)\n",
      "float64\n",
      "8\n"
     ]
    }
   ],
   "source": [
    "# 1 Dimension np.arrays of ones\n",
    "One_dim_array_of_ones = np.ones(10)\n",
    "print(One_dim_array_of_ones)\n",
    "print(type(One_dim_array_of_ones))\n",
    "print(One_dim_array_of_ones.ndim)\n",
    "print(One_dim_array_of_ones.shape)\n",
    "print(One_dim_array_of_ones.dtype)\n",
    "print(One_dim_array_of_ones.itemsize)"
   ]
  },
  {
   "cell_type": "code",
   "execution_count": 11,
   "id": "c5d5cbb6",
   "metadata": {},
   "outputs": [
    {
     "name": "stdout",
     "output_type": "stream",
     "text": [
      "[[1. 1. 1. 1. 1.]\n",
      " [1. 1. 1. 1. 1.]\n",
      " [1. 1. 1. 1. 1.]]\n",
      "<class 'numpy.ndarray'>\n",
      "2\n",
      "(3, 5)\n",
      "float64\n",
      "8\n"
     ]
    }
   ],
   "source": [
    "# 2 Dimensions np.arrays of zeros\n",
    "Two_dim_array_of_ones = np.ones((3, 5))\n",
    "print(Two_dim_array_of_ones)\n",
    "print(type(Two_dim_array_of_ones))\n",
    "print(Two_dim_array_of_ones.ndim)\n",
    "print(Two_dim_array_of_ones.shape)\n",
    "print(Two_dim_array_of_ones.dtype)\n",
    "print(Two_dim_array_of_ones.itemsize)"
   ]
  },
  {
   "cell_type": "markdown",
   "id": "6054d409",
   "metadata": {},
   "source": [
    "### Creating a NumPy Array of randint values with `np.random.randint`"
   ]
  },
  {
   "cell_type": "code",
   "execution_count": 12,
   "id": "d546dfc3",
   "metadata": {},
   "outputs": [
    {
     "name": "stdout",
     "output_type": "stream",
     "text": [
      "[85 51 95 38 78 30 81 60 55 68 94 65 18 14 60]\n",
      "<class 'numpy.ndarray'>\n",
      "1\n",
      "(15,)\n",
      "int32\n",
      "4\n"
     ]
    }
   ],
   "source": [
    "# 1 Dimension np.arrays of random int\n",
    "One_dim_random_values = np.random.randint(1, 100, size=15)\n",
    "print(One_dim_random_values)\n",
    "print(type(One_dim_random_values))\n",
    "print(One_dim_random_values.ndim)\n",
    "print(One_dim_random_values.shape)\n",
    "print(One_dim_random_values.dtype)\n",
    "print(One_dim_random_values.itemsize)"
   ]
  },
  {
   "cell_type": "code",
   "execution_count": 13,
   "id": "b72eeb62",
   "metadata": {},
   "outputs": [
    {
     "name": "stdout",
     "output_type": "stream",
     "text": [
      "[[81 95  5  6 58]\n",
      " [ 4 30 70 37 94]\n",
      " [11 10 16 93 58]]\n",
      "[[81 95  5  6 58]\n",
      " [ 4 30 70 37 94]\n",
      " [11 10 16 93 58]]\n",
      "<class 'numpy.ndarray'>\n",
      "2\n",
      "(3, 5)\n",
      "int32\n",
      "4\n"
     ]
    }
   ],
   "source": [
    "# 2 Dimension np.arrays of random int\n",
    "two_dim_random_values = np.random.randint(1, 100, size=(3, 5))\n",
    "print(two_dim_random_values)\n",
    "print(two_dim_random_values)\n",
    "print(type(two_dim_random_values))\n",
    "print(two_dim_random_values.ndim)\n",
    "print(two_dim_random_values.shape)\n",
    "print(two_dim_random_values.dtype)\n",
    "print(two_dim_random_values.itemsize)"
   ]
  },
  {
   "cell_type": "markdown",
   "id": "99eda95b",
   "metadata": {},
   "source": [
    "### Exploring Built-in `np.random` Methods"
   ]
  },
  {
   "cell_type": "code",
   "execution_count": 14,
   "id": "682ae9d0",
   "metadata": {},
   "outputs": [
    {
     "name": "stdout",
     "output_type": "stream",
     "text": [
      "['BitGenerator', 'Generator', 'MT19937', 'PCG64', 'Philox', 'RandomState', 'SFC64', 'SeedSequence', 'beta', 'binomial', 'bit_generator', 'bytes', 'chisquare', 'choice', 'default_rng', 'dirichlet', 'exponential', 'f', 'gamma', 'geometric', 'get_state', 'gumbel', 'hypergeometric', 'laplace', 'logistic', 'lognormal', 'logseries', 'mtrand', 'multinomial', 'multivariate_normal', 'negative_binomial', 'noncentral_chisquare', 'noncentral_f', 'normal', 'pareto', 'permutation', 'poisson', 'power', 'rand', 'randint', 'randn', 'random', 'random_integers', 'random_sample', 'ranf', 'rayleigh', 'sample', 'seed', 'set_state', 'shuffle', 'standard_cauchy', 'standard_exponential', 'standard_gamma', 'standard_normal', 'standard_t', 'test', 'triangular', 'uniform', 'vonmises', 'wald', 'weibull', 'zipf']\n"
     ]
    }
   ],
   "source": [
    "random_methods = [m for m in dir(np.random) if not m.startswith(\"_\")]\n",
    "print(random_methods)"
   ]
  },
  {
   "cell_type": "markdown",
   "id": "db8b9c3b",
   "metadata": {},
   "source": [
    "### The NumPy Array Data Types `dtype`"
   ]
  },
  {
   "cell_type": "markdown",
   "id": "cffcec04",
   "metadata": {},
   "source": [
    "The `dtype` determines how the `data` is interpreted as being `floating point`, `integer`, `boolean` etc.\n",
    "\n",
    "A NumPy `array` may contain only a single `data-type`."
   ]
  },
  {
   "cell_type": "markdown",
   "id": "ec1a6633",
   "metadata": {},
   "source": [
    "- `'?' Bolean`\n",
    "- `'b' byte`\n",
    "- `'B' unsigned byte`\n",
    "- `'i' integer`\n",
    "- `'u' unsigned integer`\n",
    "- `'f' floating point`\n",
    "- `'c' complex floating point`\n",
    "- `'m' timedelta`\n",
    "- `'M' datetime`\n",
    "- `'U' unicode string`\n",
    "- `'V' raw data`\n",
    "\n",
    "The possible suffixes for `int`, `float` are `1`, `2`, `4`, `8`."
   ]
  },
  {
   "cell_type": "code",
   "execution_count": 37,
   "id": "1e64ef81",
   "metadata": {},
   "outputs": [
    {
     "name": "stdout",
     "output_type": "stream",
     "text": [
      "[ 0  1  2  3  4  5  6  7  8  9 10 11 12 13 14]\n",
      "int32\n",
      "[ 0  1  2  3  4  5  6  7  8  9 10 11 12 13 14]\n",
      "int32\n",
      "[ 0  1  2  3  4  5  6  7  8  9 10 11 12 13 14]\n",
      "int64\n",
      "[ 0.  1.  2.  3.  4.  5.  6.  7.  8.  9. 10. 11. 12. 13. 14.]\n",
      "float32\n",
      "[ 0.  1.  2.  3.  4.  5.  6.  7.  8.  9. 10. 11. 12. 13. 14.]\n",
      "float32\n",
      "[ 0.  1.  2.  3.  4.  5.  6.  7.  8.  9. 10. 11. 12. 13. 14.]\n",
      "float64\n",
      "[ 0.  1.  2.  3.  4.  5.  6.  7.  8.  9. 10. 11. 12. 13. 14.]\n",
      "float64\n",
      "[False  True  True  True  True  True  True  True  True  True  True  True\n",
      "  True  True  True]\n",
      "bool\n"
     ]
    }
   ],
   "source": [
    "# Int 32 data type\n",
    "dt_int32 = np.array(range(15), dtype='i4')\n",
    "print(dt_int32)\n",
    "print(dt_int32.dtype)\n",
    "\n",
    "dt_int32 = np.array(range(15), dtype=np.int32)\n",
    "print(dt_int32)\n",
    "print(dt_int32.dtype)\n",
    "\n",
    "# Int 64 data type\n",
    "dt_int64 = np.array(range(15), dtype='i8')\n",
    "print(dt_int64)\n",
    "print(dt_int64.dtype)\n",
    "\n",
    "# float 32 data type\n",
    "dt_float32 = np.array(range(15), dtype='f4')\n",
    "print(dt_float32)\n",
    "print(dt_float32.dtype)\n",
    "\n",
    "dt_float32 = np.array(range(15), dtype=np.float32)\n",
    "print(dt_float32)\n",
    "print(dt_float32.dtype)\n",
    "\n",
    "# float 64 data type\n",
    "dt_float64 = np.array(list(range(15)), dtype='f8')\n",
    "print(dt_float64)\n",
    "print(dt_float64.dtype)\n",
    "\n",
    "dt_float64 = np.array(range(15), dtype=np.float64)\n",
    "print(dt_float64)\n",
    "print(dt_float64.dtype)\n",
    "\n",
    "# boolean data type\n",
    "dt_bool = np.array(range(15), dtype='?')\n",
    "print(dt_bool)\n",
    "print(dt_bool.dtype)"
   ]
  },
  {
   "cell_type": "markdown",
   "id": "a1fbbcb3",
   "metadata": {},
   "source": [
    "### Casting  an Array `dtype` with `astype`"
   ]
  },
  {
   "cell_type": "code",
   "execution_count": null,
   "id": "ef93c815",
   "metadata": {},
   "outputs": [],
   "source": [
    "d_int = np.array(list(range(15)), dtype='i4')\n",
    "print(d_int)\n",
    "print(d_int.dtype)\n",
    "\n",
    "d_float = d_int.astype('f4')\n",
    "print(d_float)\n",
    "print(d_float.dtype)"
   ]
  },
  {
   "cell_type": "markdown",
   "id": "2fb9b86a-fd64-4796-a849-d95d9444cb3d",
   "metadata": {},
   "source": [
    "### NumPy `ndim`"
   ]
  },
  {
   "cell_type": "markdown",
   "id": "c8485e13-33d6-4833-8b07-94d0fdb4b843",
   "metadata": {},
   "source": [
    "`ndim`determines the dimensions of the input `ndarray`."
   ]
  },
  {
   "cell_type": "code",
   "execution_count": null,
   "id": "6b49337f-51ef-4e31-9d44-ed7e567a697f",
   "metadata": {},
   "outputs": [],
   "source": [
    "One_dim_array_of_zeros.ndim"
   ]
  },
  {
   "cell_type": "code",
   "execution_count": null,
   "id": "54f26f0b",
   "metadata": {},
   "outputs": [],
   "source": [
    "Two_dim_array_of_zeros.ndim"
   ]
  },
  {
   "cell_type": "markdown",
   "id": "d0bebab4-291b-4126-bfe0-2525f60e7f1c",
   "metadata": {},
   "source": [
    "### NumPy `itemsize`"
   ]
  },
  {
   "cell_type": "markdown",
   "id": "56ec3df3-118a-4b7d-bef3-879f487fd7d3",
   "metadata": {},
   "source": [
    "determine the `size` of one array `item` in `byte`."
   ]
  },
  {
   "cell_type": "code",
   "execution_count": null,
   "id": "6e0639ca-aca9-4243-8723-635c0d1c157c",
   "metadata": {},
   "outputs": [],
   "source": [
    "One_dim_array_of_zeros.itemsize"
   ]
  },
  {
   "cell_type": "markdown",
   "id": "67dd1cc4-bdc7-408c-8acc-7175db1d182f",
   "metadata": {},
   "source": [
    "### NumPy `dtype`"
   ]
  },
  {
   "cell_type": "markdown",
   "id": "3ff4f354",
   "metadata": {},
   "source": [
    "determine the data `type` of the array items."
   ]
  },
  {
   "cell_type": "code",
   "execution_count": null,
   "id": "e6898097-f9b1-44f7-a7bc-b7d017f1f40d",
   "metadata": {},
   "outputs": [],
   "source": [
    "One_dim_array_of_zeros.dtype"
   ]
  },
  {
   "cell_type": "markdown",
   "id": "b52ffb47-1b9b-46ac-9a1a-820d254dfdf5",
   "metadata": {},
   "source": [
    "### NumPy `shape`"
   ]
  },
  {
   "cell_type": "markdown",
   "id": "e77bbfd6-2791-4737-a6f6-cc8822e35c09",
   "metadata": {},
   "source": [
    "determine the `shape` of the `ndarray`. `shape` return a `tuple`."
   ]
  },
  {
   "cell_type": "code",
   "execution_count": null,
   "id": "499b3e58-4b93-45c9-a8a1-cb5b3cc33218",
   "metadata": {},
   "outputs": [],
   "source": [
    "shape = One_dim_array_of_zeros.shape\n",
    "print(shape)\n",
    "print(type(shape))"
   ]
  },
  {
   "cell_type": "code",
   "execution_count": null,
   "id": "145ef458",
   "metadata": {},
   "outputs": [],
   "source": [
    "shape = Two_dim_array_of_zeros.shape\n",
    "print(shape)\n",
    "print(type(shape))"
   ]
  },
  {
   "cell_type": "markdown",
   "id": "0883cdf3-4006-41d0-b173-308937e3f57f",
   "metadata": {},
   "source": [
    "### Exploring Built-in `ndarray`  Methods"
   ]
  },
  {
   "cell_type": "code",
   "execution_count": null,
   "id": "f4b22815",
   "metadata": {},
   "outputs": [],
   "source": [
    "ndarray_methods = [method for method in dir(a) if not method.startswith(\"__\")]\n",
    "print(ndarray_methods)"
   ]
  },
  {
   "cell_type": "markdown",
   "id": "d2d361ab-21f3-4726-a826-9b0a1936efc5",
   "metadata": {},
   "source": [
    "### NumPy `reshape`"
   ]
  },
  {
   "cell_type": "markdown",
   "id": "b35e7e26",
   "metadata": {},
   "source": [
    "Create a new shape to an `ndarray` without changing its `values`."
   ]
  },
  {
   "cell_type": "code",
   "execution_count": null,
   "id": "2d94e9a9",
   "metadata": {
    "scrolled": true
   },
   "outputs": [],
   "source": [
    "a = np.arange(15)\n",
    "a = a.reshape(3, 5)\n",
    "print(a)\n",
    "print(a.ndim)\n",
    "print(a.size)"
   ]
  },
  {
   "cell_type": "markdown",
   "id": "5f98107a",
   "metadata": {},
   "source": [
    "### NumPy `indexing`"
   ]
  },
  {
   "cell_type": "markdown",
   "id": "21446083",
   "metadata": {},
   "source": [
    "In a one-dimensional `array` you can access the `value` by specifying the desired `index` in square brackets, just as with Python `list`."
   ]
  },
  {
   "cell_type": "code",
   "execution_count": null,
   "id": "e78818cb",
   "metadata": {},
   "outputs": [],
   "source": [
    "one_dimension = np.array([1, 2, 3, 4, 5])\n",
    "print(one_dimension)\n",
    "\n",
    "print(one_dimension[2])"
   ]
  },
  {
   "cell_type": "markdown",
   "id": "b738a080",
   "metadata": {},
   "source": [
    "In a two-dimensional or multidimensional `array` you can access `values` using comma seperated tuple of indices."
   ]
  },
  {
   "cell_type": "code",
   "execution_count": null,
   "id": "b55d4796",
   "metadata": {},
   "outputs": [],
   "source": [
    "two_dimension = np.array([[1, 2, 3, 4, 5], [6, 7, 8, 9, 10], [11, 12, 13, 14, 15]])\n",
    "print(two_dimension)\n",
    "\n",
    "print(two_dimension[1, 2])\n"
   ]
  },
  {
   "cell_type": "markdown",
   "id": "105b4818",
   "metadata": {},
   "source": [
    "### NumPy `slicing`"
   ]
  },
  {
   "cell_type": "markdown",
   "id": "d2b4efab",
   "metadata": {},
   "source": [
    "The `values` of an `subarrays` can be accessed using slice notation, marked by the colon `:`."
   ]
  },
  {
   "cell_type": "code",
   "execution_count": null,
   "id": "3764c0eb",
   "metadata": {},
   "outputs": [],
   "source": [
    "v = np.arange(1, 16).reshape(3, 5)\n",
    "print(v)\n",
    "print(\"-------\")\n",
    "print(v[:2, :2])\n",
    "print(\"-------\")\n",
    "print(v[0:, 0:1])\n",
    "print(\"-------\")\n",
    "print(v[0:, 4:])"
   ]
  },
  {
   "cell_type": "markdown",
   "id": "93b97827",
   "metadata": {},
   "source": [
    "## Add new values to a NumPy `ndarray`"
   ]
  },
  {
   "cell_type": "markdown",
   "id": "bc609cc8",
   "metadata": {},
   "source": [
    "### Using `ndarray.append` method"
   ]
  },
  {
   "cell_type": "markdown",
   "id": "87e348c4",
   "metadata": {},
   "source": [
    "The NumPy `np.append` values to the end of an `ndarray`."
   ]
  },
  {
   "cell_type": "code",
   "execution_count": 32,
   "id": "a97bd918",
   "metadata": {},
   "outputs": [
    {
     "name": "stdout",
     "output_type": "stream",
     "text": [
      "[0 1 2 3 4 5 6 7 8 9]\n"
     ]
    }
   ],
   "source": [
    "e = np.arange(10)\n",
    "print(e)"
   ]
  },
  {
   "cell_type": "code",
   "execution_count": 33,
   "id": "93859e23",
   "metadata": {},
   "outputs": [
    {
     "name": "stdout",
     "output_type": "stream",
     "text": [
      "[0 1 2 3 4 5 6 7 8 9]\n"
     ]
    }
   ],
   "source": [
    "np.append(e, 10)\n",
    "print(e)"
   ]
  },
  {
   "cell_type": "markdown",
   "id": "b5ddbb25",
   "metadata": {},
   "source": [
    "### Using `np.insert` method"
   ]
  },
  {
   "cell_type": "markdown",
   "id": "7cfacd69",
   "metadata": {},
   "source": [
    "The NumPy `np.insert` values along the given axis before the given indices."
   ]
  },
  {
   "cell_type": "code",
   "execution_count": 62,
   "id": "a65542ce",
   "metadata": {},
   "outputs": [
    {
     "name": "stdout",
     "output_type": "stream",
     "text": [
      "[1 2 3 4 5 6 7 8 9]\n"
     ]
    }
   ],
   "source": [
    "f = np.array(range(1, 10))\n",
    "print(f)"
   ]
  },
  {
   "cell_type": "markdown",
   "id": "235db31b",
   "metadata": {},
   "source": [
    "`np.insert` return a new `ndarray`, it doesn't modify the `ndarray` passed as argument."
   ]
  },
  {
   "cell_type": "code",
   "execution_count": 64,
   "id": "96ae891b",
   "metadata": {},
   "outputs": [
    {
     "name": "stdout",
     "output_type": "stream",
     "text": [
      "[0 1 2 3 4 5 6 7 8 9]\n"
     ]
    }
   ],
   "source": [
    "new_f = np.insert(f, 0, 0)\n",
    "print(f) # unmodified ndarray after np.insert\n",
    "print(new_f) # a new ndarray is assign to new_f"
   ]
  },
  {
   "cell_type": "code",
   "execution_count": 68,
   "id": "7a601604",
   "metadata": {},
   "outputs": [
    {
     "name": "stdout",
     "output_type": "stream",
     "text": [
      "[ 0  1  2  3  4  5  6  7  8  9 10]\n"
     ]
    }
   ],
   "source": [
    "new_f = np.insert(new_f, 10, 10)\n",
    "print(new_f)"
   ]
  },
  {
   "cell_type": "markdown",
   "id": "7b3eb215",
   "metadata": {},
   "source": [
    "## NumPy Performance"
   ]
  },
  {
   "cell_type": "code",
   "execution_count": null,
   "id": "af394d91",
   "metadata": {},
   "outputs": [],
   "source": [
    "numpy_array = np.arange(10**6)\n",
    "print(numpy_array[:10])\n",
    "print(type(numpy_array))\n",
    "\n",
    "python_list = list(range(10**6))\n",
    "print(python_list[:10])\n",
    "print(type(python_list))"
   ]
  },
  {
   "cell_type": "code",
   "execution_count": null,
   "id": "5fbaa1ac",
   "metadata": {},
   "outputs": [],
   "source": [
    "%time for _ in range(10): numpy_array_double = numpy_array * 2"
   ]
  },
  {
   "cell_type": "code",
   "execution_count": null,
   "id": "e04aec74",
   "metadata": {},
   "outputs": [],
   "source": [
    "print(numpy_array_double[-10:])"
   ]
  },
  {
   "cell_type": "code",
   "execution_count": null,
   "id": "742eb43c",
   "metadata": {},
   "outputs": [],
   "source": [
    "%time numpy_array_double = np.append(numpy_array_double, 2000000)\n",
    "print(numpy_array_double[10:])"
   ]
  },
  {
   "cell_type": "code",
   "execution_count": null,
   "id": "ef5d135c",
   "metadata": {},
   "outputs": [],
   "source": [
    "%time for _ in range(10): python_list_double = [i * 2 for i in python_list]"
   ]
  },
  {
   "cell_type": "code",
   "execution_count": null,
   "id": "6b356e1b",
   "metadata": {},
   "outputs": [],
   "source": [
    "%time python_list_double.append(2000000)\n",
    "print(python_list_double[-10:])"
   ]
  },
  {
   "cell_type": "markdown",
   "id": "9db79ddd",
   "metadata": {},
   "source": [
    "## `NumPy` Concepts"
   ]
  },
  {
   "cell_type": "markdown",
   "id": "084e8ebc",
   "metadata": {},
   "source": [
    "### What is Vectorization?"
   ]
  },
  {
   "cell_type": "markdown",
   "id": "6789e897",
   "metadata": {},
   "source": [
    "`Vectorization` is a technique of replacing explicit `for-loops` with `array expressions`, which in this case can be computed internally with a `low-level` language.\n",
    "\n",
    "Vectorized operations in `NumPy` use highly optimized `C` and `Fortran` functions, making for cleaner and faster Python code."
   ]
  },
  {
   "cell_type": "markdown",
   "id": "c40b0182",
   "metadata": {},
   "source": [
    "https://en.wikipedia.org/wiki/Array_programming"
   ]
  },
  {
   "cell_type": "markdown",
   "id": "02851939",
   "metadata": {},
   "source": [
    "#### Example of vectorized function"
   ]
  },
  {
   "cell_type": "code",
   "execution_count": null,
   "id": "6706253a",
   "metadata": {},
   "outputs": [],
   "source": [
    "p = np.power(a, 2)\n",
    "print(p)"
   ]
  },
  {
   "cell_type": "code",
   "execution_count": null,
   "id": "7a9e8944",
   "metadata": {},
   "outputs": [],
   "source": [
    "m = np.multiply(a, 2)\n",
    "print(m)"
   ]
  },
  {
   "cell_type": "code",
   "execution_count": null,
   "id": "603ba20a",
   "metadata": {},
   "outputs": [],
   "source": [
    "s = np.sin(a)\n",
    "print(s)"
   ]
  },
  {
   "cell_type": "code",
   "execution_count": null,
   "id": "f2bccf2e",
   "metadata": {},
   "outputs": [],
   "source": [
    "c = np.cos(a)\n",
    "print(c)"
   ]
  },
  {
   "cell_type": "markdown",
   "id": "c71b3a2c",
   "metadata": {},
   "source": [
    "### What is Broadcasting?"
   ]
  },
  {
   "cell_type": "markdown",
   "id": "93a3f6ab",
   "metadata": {},
   "source": [
    "`Broadcasting` describes how `NumPy` operate on `arrays` with different `shapes` during arithmetic operations to perform a `vectorized` calculation between them."
   ]
  },
  {
   "cell_type": "markdown",
   "id": "7820217d",
   "metadata": {},
   "source": [
    "`Machine learning` is one domain that can frequently take advantage of `vectorization` and `broadcasting`."
   ]
  },
  {
   "cell_type": "markdown",
   "id": "fb6d3512",
   "metadata": {},
   "source": [
    "## Arithmetic with NumPy Arrays"
   ]
  },
  {
   "cell_type": "markdown",
   "id": "b297c8ef",
   "metadata": {},
   "source": [
    "Any arithmetic operations between equal-size arrays applies the operation element-wise:"
   ]
  },
  {
   "cell_type": "code",
   "execution_count": null,
   "id": "6d3dcffc",
   "metadata": {},
   "outputs": [],
   "source": [
    "a = np.arange(1, 21).reshape((5, 4))\n",
    "print(a)"
   ]
  },
  {
   "cell_type": "code",
   "execution_count": null,
   "id": "8fbe3458",
   "metadata": {},
   "outputs": [],
   "source": [
    "b = np.arange(1, 21).reshape((5, 4))\n",
    "print(b)"
   ]
  },
  {
   "cell_type": "code",
   "execution_count": null,
   "id": "e7af8ecd",
   "metadata": {},
   "outputs": [],
   "source": [
    "a + b"
   ]
  },
  {
   "cell_type": "code",
   "execution_count": null,
   "id": "1b3f426f",
   "metadata": {},
   "outputs": [],
   "source": [
    "a * b"
   ]
  },
  {
   "cell_type": "code",
   "execution_count": null,
   "id": "9e12d8aa",
   "metadata": {},
   "outputs": [],
   "source": [
    "a / b"
   ]
  },
  {
   "cell_type": "code",
   "execution_count": null,
   "id": "cbd46761",
   "metadata": {},
   "outputs": [],
   "source": [
    "np.random.shuffle(a)\n",
    "np.random.shuffle(b)\n",
    "\n",
    "a > b"
   ]
  },
  {
   "cell_type": "markdown",
   "id": "f0b67790",
   "metadata": {},
   "source": [
    "### Exploring `NumPy` Built-in Methods"
   ]
  },
  {
   "cell_type": "code",
   "execution_count": null,
   "id": "28f0a41f",
   "metadata": {},
   "outputs": [],
   "source": [
    "numpy_methods = [method for method in dir(np) if not method.startswith(\"_\")]\n",
    "print(numpy_methods)"
   ]
  },
  {
   "cell_type": "markdown",
   "id": "1ed06480",
   "metadata": {},
   "source": [
    "### NumPy `ufuncs`"
   ]
  },
  {
   "cell_type": "markdown",
   "id": "c5bf03c7",
   "metadata": {},
   "source": [
    "There are currently more than `60` universal functions defined in `numpy` on one or more types, covering a wide variety of operations. \n",
    "\n",
    "\n",
    "https://numpy.org/doc/stable/reference/ufuncs.html#available-ufuncs"
   ]
  },
  {
   "cell_type": "markdown",
   "id": "11f58265",
   "metadata": {},
   "source": [
    "### Other Subpackages"
   ]
  },
  {
   "cell_type": "markdown",
   "id": "41afcb18",
   "metadata": {},
   "source": [
    "`numpy.fft` Fast Fourier Transform\n",
    "\n",
    "`numpy.polynomial` Efficient Polynomials\n",
    "\n",
    "`numpy.linalg` Linear Algebra\n",
    "\n",
    "`numpy.math` C Standard library functions\n",
    "\n",
    "`numpy.random` Random Number Generation"
   ]
  },
  {
   "cell_type": "markdown",
   "id": "70c0bbbd",
   "metadata": {},
   "source": [
    "### Conclusion"
   ]
  },
  {
   "cell_type": "markdown",
   "id": "82b4fc09",
   "metadata": {},
   "source": [
    "`NumPy` provides a wide variety of functions capable of performing operations on `arrays` of data. Its use of `vectorization` makes these functions incredibly fast, when compared to the analogous computations performed in pure Python. "
   ]
  }
 ],
 "metadata": {
  "kernelspec": {
   "display_name": "Python 3 (ipykernel)",
   "language": "python",
   "name": "python3"
  },
  "language_info": {
   "codemirror_mode": {
    "name": "ipython",
    "version": 3
   },
   "file_extension": ".py",
   "mimetype": "text/x-python",
   "name": "python",
   "nbconvert_exporter": "python",
   "pygments_lexer": "ipython3",
   "version": "3.8.8"
  }
 },
 "nbformat": 4,
 "nbformat_minor": 5
}
