{
 "cells": [
  {
   "cell_type": "markdown",
   "id": "bb887048",
   "metadata": {},
   "source": [
    "# Introduction To NumPy"
   ]
  },
  {
   "cell_type": "markdown",
   "id": "d537e8ca",
   "metadata": {},
   "source": [
    "## What is NumPy"
   ]
  },
  {
   "cell_type": "markdown",
   "id": "418cec39",
   "metadata": {},
   "source": [
    "`NumPy`, short for `Numerical Python`, is one of the most important package for numerical computing in `Python`. `Numpy` is designed for efficiency on large `array` of `data`."
   ]
  },
  {
   "cell_type": "markdown",
   "id": "0290e035",
   "metadata": {},
   "source": [
    "- `NumPy` internally stores data in a contiguous block of `memory`, independent of other built-in Python objects. NumPy’s library of algorithms written in `C` can operate on this `memory` without any `type` checking or other overhead.\n",
    "\n",
    "\n",
    "- `NumPy arrays` use less memory than built-in Python sequences.\n",
    "\n",
    "- `NumPy` uses algorithms written in `C` that runs in nanoseconds rather than seconds.\n",
    "\n",
    "- `NumPy` operations perform complex computations on entire `array` without the need for Python for loops."
   ]
  },
  {
   "cell_type": "markdown",
   "id": "cfb7977a",
   "metadata": {},
   "source": [
    "## NumPy array vs Python List"
   ]
  },
  {
   "cell_type": "markdown",
   "id": "e8308dbc",
   "metadata": {},
   "source": [
    "`NumPy arrays` are faster and more compact than `Python lists`. \n",
    "\n",
    "`NumPy arrays` uses less memory to store `data` and supports more `data types`as compared to Python. `NumPy` provides a `dtype`parameter to define the `data type` (`int`, `float` etc).\n"
   ]
  },
  {
   "cell_type": "markdown",
   "id": "7c3caa14",
   "metadata": {},
   "source": [
    "## The `ndarray`"
   ]
  },
  {
   "cell_type": "markdown",
   "id": "f2fef1c9",
   "metadata": {},
   "source": [
    "The most important feature of `Numpy` is the `ndarray` which stands for `multi-dimensional array` which provides vectorized arithmetic operations.\n",
    "\n",
    "- The type of `items` in the `array` is specified by a separate `data-type object` parameter named `dtype`.\n",
    "\n",
    "- The number of dimensions in an `array` is defined by its `shape`, which is a `tuple` of `n` non-negative integers that specify the size of each dimension."
   ]
  },
  {
   "cell_type": "markdown",
   "id": "5c88e8d6-9e79-4d51-91c1-5b100c326540",
   "metadata": {},
   "source": [
    "## The Array Element Type `dtype`"
   ]
  },
  {
   "cell_type": "markdown",
   "id": "c0b4536f-e757-42a9-8d04-d168f84d600a",
   "metadata": {},
   "source": [
    "The `dtype` determines how the data is interpreted as being `floating point`, `integer`, `boolean` etc."
   ]
  },
  {
   "cell_type": "markdown",
   "id": "182b5160",
   "metadata": {},
   "source": [
    "### Creating Your First NumPy `ndarrays`"
   ]
  },
  {
   "cell_type": "code",
   "execution_count": 21,
   "id": "19206fae-3b3d-4c36-a056-669aa7646f6b",
   "metadata": {},
   "outputs": [],
   "source": [
    "import numpy as np"
   ]
  },
  {
   "cell_type": "code",
   "execution_count": 33,
   "id": "5d56a0ec",
   "metadata": {},
   "outputs": [
    {
     "data": {
      "text/plain": [
       "'1.20.3'"
      ]
     },
     "execution_count": 33,
     "metadata": {},
     "output_type": "execute_result"
    }
   ],
   "source": [
    "np.__version__"
   ]
  },
  {
   "cell_type": "markdown",
   "id": "830eaee5-0d03-4624-97bb-a9b1b2ec5829",
   "metadata": {},
   "source": [
    "### Range Of Values"
   ]
  },
  {
   "cell_type": "markdown",
   "id": "59aa8742",
   "metadata": {},
   "source": [
    "Create an `ndarray` of one dimension with evenly spaced `values`."
   ]
  },
  {
   "cell_type": "code",
   "execution_count": 22,
   "id": "beb3b2d9",
   "metadata": {},
   "outputs": [
    {
     "name": "stdout",
     "output_type": "stream",
     "text": [
      "[ 0  1  2  3  4  5  6  7  8  9 10 11 12 13 14]\n",
      "<class 'numpy.ndarray'>\n",
      "1\n",
      "(15,)\n",
      "int32\n",
      "4\n"
     ]
    }
   ],
   "source": [
    "a = np.arange(15)\n",
    "print(a)\n",
    "print(type(a))\n",
    "print(a.ndim)\n",
    "print(a.shape)\n",
    "print(a.dtype)\n",
    "print(a.itemsize)"
   ]
  },
  {
   "cell_type": "markdown",
   "id": "5eb9b98b-331e-4b7e-91eb-77059234d2c7",
   "metadata": {},
   "source": [
    "### From A List Of Values"
   ]
  },
  {
   "cell_type": "markdown",
   "id": "3f17f448-b4ec-4348-a240-786c3fd5c8de",
   "metadata": {},
   "source": [
    "Create a `ndarray` from a python `list`."
   ]
  },
  {
   "cell_type": "code",
   "execution_count": 24,
   "id": "cf8f9585-8473-4928-aa44-3dff76f26033",
   "metadata": {},
   "outputs": [
    {
     "name": "stdout",
     "output_type": "stream",
     "text": [
      "[0, 1, 2, 3, 4, 5, 6, 7, 8, 9, 10, 11, 12, 13, 14]\n",
      "<class 'list'>\n",
      "[ 0  1  2  3  4  5  6  7  8  9 10 11 12 13 14]\n",
      "<class 'numpy.ndarray'>\n",
      "1\n",
      "(15,)\n",
      "int32\n",
      "4\n"
     ]
    }
   ],
   "source": [
    "b = [i for i in range(15)]\n",
    "print(b)\n",
    "print(type(b))\n",
    "\n",
    "c = np.array(b)\n",
    "print(c)\n",
    "print(type(c))\n",
    "print(c.ndim)\n",
    "print(c.shape)\n",
    "print(c.dtype)\n",
    "print(c.itemsize)"
   ]
  },
  {
   "cell_type": "markdown",
   "id": "5d05263e-e99d-45ad-87f9-bdf3b7010a82",
   "metadata": {},
   "source": [
    "### Create An Array Of Zeros"
   ]
  },
  {
   "cell_type": "code",
   "execution_count": 26,
   "id": "70229277-db06-49ff-8d27-a88f15bfc256",
   "metadata": {},
   "outputs": [
    {
     "name": "stdout",
     "output_type": "stream",
     "text": [
      "[0. 0. 0. 0. 0. 0. 0. 0. 0. 0.]\n",
      "<class 'numpy.ndarray'>\n",
      "1\n",
      "(10,)\n",
      "float64\n",
      "8\n"
     ]
    }
   ],
   "source": [
    "array_of_zeros = np.zeros(10)\n",
    "print(array_of_zeros)\n",
    "print(type(array_of_zeros))\n",
    "print(array_of_zeros.ndim)\n",
    "print(array_of_zeros.shape)\n",
    "print(array_of_zeros.dtype)\n",
    "print(array_of_zeros.itemsize)"
   ]
  },
  {
   "cell_type": "markdown",
   "id": "2fb9b86a-fd64-4796-a849-d95d9444cb3d",
   "metadata": {},
   "source": [
    "### NumPy `ndim`"
   ]
  },
  {
   "cell_type": "markdown",
   "id": "c8485e13-33d6-4833-8b07-94d0fdb4b843",
   "metadata": {},
   "source": [
    "`ndim`determines the dimensions of the input `ndarray`"
   ]
  },
  {
   "cell_type": "code",
   "execution_count": 4,
   "id": "6b49337f-51ef-4e31-9d44-ed7e567a697f",
   "metadata": {},
   "outputs": [
    {
     "data": {
      "text/plain": [
       "1"
      ]
     },
     "execution_count": 4,
     "metadata": {},
     "output_type": "execute_result"
    }
   ],
   "source": [
    "a.ndim"
   ]
  },
  {
   "cell_type": "markdown",
   "id": "d0bebab4-291b-4126-bfe0-2525f60e7f1c",
   "metadata": {},
   "source": [
    "### NumPy `itemsize`"
   ]
  },
  {
   "cell_type": "markdown",
   "id": "56ec3df3-118a-4b7d-bef3-879f487fd7d3",
   "metadata": {},
   "source": [
    "determine the `size` of the array items in `byte`."
   ]
  },
  {
   "cell_type": "code",
   "execution_count": 7,
   "id": "6e0639ca-aca9-4243-8723-635c0d1c157c",
   "metadata": {},
   "outputs": [
    {
     "data": {
      "text/plain": [
       "4"
      ]
     },
     "execution_count": 7,
     "metadata": {},
     "output_type": "execute_result"
    }
   ],
   "source": [
    "a.itemsize"
   ]
  },
  {
   "cell_type": "markdown",
   "id": "67dd1cc4-bdc7-408c-8acc-7175db1d182f",
   "metadata": {},
   "source": [
    "### NumPy `dtype`"
   ]
  },
  {
   "cell_type": "code",
   "execution_count": null,
   "id": "724fc9cd-b63f-4b35-80c0-24e288687007",
   "metadata": {},
   "outputs": [],
   "source": [
    "determine the data `type` of the array items."
   ]
  },
  {
   "cell_type": "code",
   "execution_count": 10,
   "id": "e6898097-f9b1-44f7-a7bc-b7d017f1f40d",
   "metadata": {},
   "outputs": [
    {
     "data": {
      "text/plain": [
       "dtype('int32')"
      ]
     },
     "execution_count": 10,
     "metadata": {},
     "output_type": "execute_result"
    }
   ],
   "source": [
    "a.dtype"
   ]
  },
  {
   "cell_type": "markdown",
   "id": "b52ffb47-1b9b-46ac-9a1a-820d254dfdf5",
   "metadata": {},
   "source": [
    "### NumPy `shape`"
   ]
  },
  {
   "cell_type": "markdown",
   "id": "e77bbfd6-2791-4737-a6f6-cc8822e35c09",
   "metadata": {},
   "source": [
    "determine the `shape` of the `ndarray`. `shape` return a `tuple`."
   ]
  },
  {
   "cell_type": "code",
   "execution_count": 20,
   "id": "499b3e58-4b93-45c9-a8a1-cb5b3cc33218",
   "metadata": {},
   "outputs": [
    {
     "name": "stdout",
     "output_type": "stream",
     "text": [
      "(15,)\n",
      "<class 'tuple'>\n"
     ]
    }
   ],
   "source": [
    "shape = a.shape\n",
    "print(shape)\n",
    "print(type(shape))"
   ]
  },
  {
   "cell_type": "markdown",
   "id": "0883cdf3-4006-41d0-b173-308937e3f57f",
   "metadata": {},
   "source": [
    "### Built-in `ndarray`  Methods"
   ]
  },
  {
   "cell_type": "code",
   "execution_count": 19,
   "id": "f4b22815",
   "metadata": {},
   "outputs": [
    {
     "name": "stdout",
     "output_type": "stream",
     "text": [
      "['T', 'all', 'any', 'argmax', 'argmin', 'argpartition', 'argsort', 'astype', 'base', 'byteswap', 'choose', 'clip', 'compress', 'conj', 'conjugate', 'copy', 'ctypes', 'cumprod', 'cumsum', 'data', 'diagonal', 'dot', 'dtype', 'dump', 'dumps', 'fill', 'flags', 'flat', 'flatten', 'getfield', 'imag', 'item', 'itemset', 'itemsize', 'max', 'mean', 'min', 'nbytes', 'ndim', 'newbyteorder', 'nonzero', 'partition', 'prod', 'ptp', 'put', 'ravel', 'real', 'repeat', 'reshape', 'resize', 'round', 'searchsorted', 'setfield', 'setflags', 'shape', 'size', 'sort', 'squeeze', 'std', 'strides', 'sum', 'swapaxes', 'take', 'tobytes', 'tofile', 'tolist', 'tostring', 'trace', 'transpose', 'var', 'view']\n"
     ]
    }
   ],
   "source": [
    "ndarray_methods = [method for method in dir(a) if not method.startswith(\"__\")]\n",
    "print(ndarray_methods)"
   ]
  },
  {
   "cell_type": "markdown",
   "id": "d2d361ab-21f3-4726-a826-9b0a1936efc5",
   "metadata": {},
   "source": [
    "### NumPy `reshape`"
   ]
  },
  {
   "cell_type": "markdown",
   "id": "b35e7e26",
   "metadata": {},
   "source": [
    "Create a new shape to an `ndarray` without changing its `values`."
   ]
  },
  {
   "cell_type": "code",
   "execution_count": 15,
   "id": "2d94e9a9",
   "metadata": {
    "scrolled": true
   },
   "outputs": [
    {
     "name": "stdout",
     "output_type": "stream",
     "text": [
      "[[ 0  1  2  3  4]\n",
      " [ 5  6  7  8  9]\n",
      " [10 11 12 13 14]]\n",
      "2\n",
      "15\n"
     ]
    }
   ],
   "source": [
    "a = a.reshape(3, 5)\n",
    "print(a)\n",
    "print(a.ndim)\n",
    "print(a.size)"
   ]
  },
  {
   "cell_type": "markdown",
   "id": "5f98107a",
   "metadata": {},
   "source": [
    "### NumPy `indexing` and `slicing`"
   ]
  },
  {
   "cell_type": "markdown",
   "id": "d2b4efab",
   "metadata": {},
   "source": [
    "The `values` of an `array` can be accessed and assigned to the same way as other Python sequences.\n"
   ]
  },
  {
   "cell_type": "code",
   "execution_count": 31,
   "id": "3764c0eb",
   "metadata": {},
   "outputs": [
    {
     "name": "stdout",
     "output_type": "stream",
     "text": [
      "[ 0  1  2  3  4  5  6  7  8  9 10 11 12 13 14]\n",
      "5\n",
      "[0 1]\n",
      "[14 13 12 11 10  9  8  7  6  5  4  3  2  1  0]\n"
     ]
    }
   ],
   "source": [
    "print(a)\n",
    "print(a[5])\n",
    "print(a[0:2])\n",
    "print(a[::-1])"
   ]
  },
  {
   "cell_type": "markdown",
   "id": "9d29b6d7-099a-4691-b779-aaf012498a99",
   "metadata": {},
   "source": [
    "### Data Type `dtype`"
   ]
  },
  {
   "cell_type": "markdown",
   "id": "ce4c4314",
   "metadata": {},
   "source": [
    "A numpy `array` may contain only a single `data-type` described by a `dtype`."
   ]
  },
  {
   "cell_type": "code",
   "execution_count": 16,
   "id": "083c65bf",
   "metadata": {},
   "outputs": [
    {
     "name": "stdout",
     "output_type": "stream",
     "text": [
      "[ 0  1  2  3  4  5  6  7  8  9 10 11 12 13 14]\n",
      "int32\n",
      "[ 0.  1.  2.  3.  4.  5.  6.  7.  8.  9. 10. 11. 12. 13. 14.]\n",
      "float64\n"
     ]
    }
   ],
   "source": [
    "d = np.array(list(range(15)), dtype='int')\n",
    "print(d)\n",
    "print(d.dtype)\n",
    "\n",
    "e = np.array(list(range(15)), dtype='float')\n",
    "print(e)\n",
    "print(e.dtype)"
   ]
  },
  {
   "cell_type": "markdown",
   "id": "7b3eb215",
   "metadata": {},
   "source": [
    "## NumPy Performance"
   ]
  },
  {
   "cell_type": "code",
   "execution_count": 1,
   "id": "af394d91",
   "metadata": {},
   "outputs": [
    {
     "name": "stdout",
     "output_type": "stream",
     "text": [
      "[0 1 2 3 4 5 6 7 8 9]\n",
      "<class 'numpy.ndarray'>\n",
      "[0, 1, 2, 3, 4, 5, 6, 7, 8, 9]\n",
      "<class 'list'>\n"
     ]
    }
   ],
   "source": [
    "numpy_array = np.arange(10**6)\n",
    "print(numpy_array[:10])\n",
    "print(type(numpy_array))\n",
    "\n",
    "python_list = list(range(10**6))\n",
    "print(python_list[:10])\n",
    "print(type(python_list))"
   ]
  },
  {
   "cell_type": "code",
   "execution_count": 2,
   "id": "5fbaa1ac",
   "metadata": {},
   "outputs": [
    {
     "name": "stdout",
     "output_type": "stream",
     "text": [
      "Wall time: 40 ms\n"
     ]
    }
   ],
   "source": [
    "%time for _ in range(10): numpy_array_double = numpy_array * 2"
   ]
  },
  {
   "cell_type": "code",
   "execution_count": 7,
   "id": "e04aec74",
   "metadata": {},
   "outputs": [
    {
     "name": "stdout",
     "output_type": "stream",
     "text": [
      "[1999982 1999984 1999986 1999988 1999990 1999992 1999994 1999996 1999998\n",
      " 2000000]\n"
     ]
    }
   ],
   "source": [
    "print(numpy_array_double[-10:])"
   ]
  },
  {
   "cell_type": "code",
   "execution_count": 4,
   "id": "742eb43c",
   "metadata": {},
   "outputs": [
    {
     "name": "stdout",
     "output_type": "stream",
     "text": [
      "Wall time: 5 ms\n",
      "[     20      22      24 ... 1999996 1999998 2000000]\n"
     ]
    }
   ],
   "source": [
    "%time numpy_array_double = np.append(numpy_array_double, 2000000)\n",
    "print(numpy_array_double[10:])"
   ]
  },
  {
   "cell_type": "code",
   "execution_count": 5,
   "id": "ef5d135c",
   "metadata": {},
   "outputs": [
    {
     "name": "stdout",
     "output_type": "stream",
     "text": [
      "Wall time: 1.62 s\n"
     ]
    }
   ],
   "source": [
    "%time for _ in range(10): python_list_double = [i * 2 for i in python_list]"
   ]
  },
  {
   "cell_type": "code",
   "execution_count": 8,
   "id": "6b356e1b",
   "metadata": {},
   "outputs": [
    {
     "name": "stdout",
     "output_type": "stream",
     "text": [
      "Wall time: 0 ns\n",
      "[1999984, 1999986, 1999988, 1999990, 1999992, 1999994, 1999996, 1999998, 2000000, 2000000]\n"
     ]
    }
   ],
   "source": [
    "%time python_list_double.append(2000000)\n",
    "print(python_list_double[-10:])"
   ]
  },
  {
   "cell_type": "markdown",
   "id": "9db79ddd",
   "metadata": {},
   "source": [
    "## `NumPy` Concepts"
   ]
  },
  {
   "cell_type": "markdown",
   "id": "084e8ebc",
   "metadata": {},
   "source": [
    "### Vectorization"
   ]
  },
  {
   "cell_type": "markdown",
   "id": "6789e897",
   "metadata": {},
   "source": [
    "`Vectorization` is the process of performing the same operation in the same way for each element in an array. This removes for loops from your code but achieves the same result."
   ]
  },
  {
   "cell_type": "markdown",
   "id": "02851939",
   "metadata": {},
   "source": [
    "#### Example of vectorized function"
   ]
  },
  {
   "cell_type": "code",
   "execution_count": 44,
   "id": "6706253a",
   "metadata": {},
   "outputs": [
    {
     "name": "stdout",
     "output_type": "stream",
     "text": [
      "[  0   1   4   9  16  25  36  49  64  81 100 121 144 169 196]\n"
     ]
    }
   ],
   "source": [
    "p = np.power(a, 2)\n",
    "print(p)"
   ]
  },
  {
   "cell_type": "code",
   "execution_count": 45,
   "id": "7a9e8944",
   "metadata": {},
   "outputs": [
    {
     "name": "stdout",
     "output_type": "stream",
     "text": [
      "[ 0  2  4  6  8 10 12 14 16 18 20 22 24 26 28]\n"
     ]
    }
   ],
   "source": [
    "m = np.multiply(a, 2)\n",
    "print(m)"
   ]
  },
  {
   "cell_type": "code",
   "execution_count": 46,
   "id": "603ba20a",
   "metadata": {},
   "outputs": [
    {
     "name": "stdout",
     "output_type": "stream",
     "text": [
      "[ 0.          0.84147098  0.90929743  0.14112001 -0.7568025  -0.95892427\n",
      " -0.2794155   0.6569866   0.98935825  0.41211849 -0.54402111 -0.99999021\n",
      " -0.53657292  0.42016704  0.99060736]\n"
     ]
    }
   ],
   "source": [
    "s = np.sin(a)\n",
    "print(s)"
   ]
  },
  {
   "cell_type": "code",
   "execution_count": 48,
   "id": "f2bccf2e",
   "metadata": {},
   "outputs": [
    {
     "name": "stdout",
     "output_type": "stream",
     "text": [
      "[ 1.          0.54030231 -0.41614684 -0.9899925  -0.65364362  0.28366219\n",
      "  0.96017029  0.75390225 -0.14550003 -0.91113026 -0.83907153  0.0044257\n",
      "  0.84385396  0.90744678  0.13673722]\n"
     ]
    }
   ],
   "source": [
    "c = np.cos(a)\n",
    "print(c)"
   ]
  },
  {
   "cell_type": "markdown",
   "id": "c71b3a2c",
   "metadata": {},
   "source": [
    "### Broadcasting "
   ]
  },
  {
   "cell_type": "markdown",
   "id": "93a3f6ab",
   "metadata": {},
   "source": [
    "`Broadcasting` is the process of extending two arrays of different shapes and figuring out how to perform a `vectorized` calculation between them."
   ]
  },
  {
   "cell_type": "markdown",
   "id": "f0b67790",
   "metadata": {},
   "source": [
    "### Built-in NumPy Methodds"
   ]
  },
  {
   "cell_type": "code",
   "execution_count": 36,
   "id": "55fb5d7b",
   "metadata": {},
   "outputs": [
    {
     "name": "stdout",
     "output_type": "stream",
     "text": [
      "['ALLOW_THREADS', 'AxisError', 'BUFSIZE', 'Bytes0', 'CLIP', 'ComplexWarning', 'DataSource', 'Datetime64', 'ERR_CALL', 'ERR_DEFAULT', 'ERR_IGNORE', 'ERR_LOG', 'ERR_PRINT', 'ERR_RAISE', 'ERR_WARN', 'FLOATING_POINT_SUPPORT', 'FPE_DIVIDEBYZERO', 'FPE_INVALID', 'FPE_OVERFLOW', 'FPE_UNDERFLOW', 'False_', 'Inf', 'Infinity', 'MAXDIMS', 'MAY_SHARE_BOUNDS', 'MAY_SHARE_EXACT', 'MachAr', 'ModuleDeprecationWarning', 'NAN', 'NINF', 'NZERO', 'NaN', 'PINF', 'PZERO', 'RAISE', 'RankWarning', 'SHIFT_DIVIDEBYZERO', 'SHIFT_INVALID', 'SHIFT_OVERFLOW', 'SHIFT_UNDERFLOW', 'ScalarType', 'Str0', 'Tester', 'TooHardError', 'True_', 'UFUNC_BUFSIZE_DEFAULT', 'UFUNC_PYVALS_NAME', 'Uint64', 'VisibleDeprecationWarning', 'WRAP', 'abs', 'absolute', 'add', 'add_docstring', 'add_newdoc', 'add_newdoc_ufunc', 'alen', 'all', 'allclose', 'alltrue', 'amax', 'amin', 'angle', 'any', 'append', 'apply_along_axis', 'apply_over_axes', 'arange', 'arccos', 'arccosh', 'arcsin', 'arcsinh', 'arctan', 'arctan2', 'arctanh', 'argmax', 'argmin', 'argpartition', 'argsort', 'argwhere', 'around', 'array', 'array2string', 'array_equal', 'array_equiv', 'array_repr', 'array_split', 'array_str', 'asanyarray', 'asarray', 'asarray_chkfinite', 'ascontiguousarray', 'asfarray', 'asfortranarray', 'asmatrix', 'asscalar', 'atleast_1d', 'atleast_2d', 'atleast_3d', 'average', 'bartlett', 'base_repr', 'binary_repr', 'bincount', 'bitwise_and', 'bitwise_not', 'bitwise_or', 'bitwise_xor', 'blackman', 'block', 'bmat', 'bool8', 'bool_', 'broadcast', 'broadcast_arrays', 'broadcast_shapes', 'broadcast_to', 'busday_count', 'busday_offset', 'busdaycalendar', 'byte', 'byte_bounds', 'bytes0', 'bytes_', 'c_', 'can_cast', 'cast', 'cbrt', 'cdouble', 'ceil', 'cfloat', 'char', 'character', 'chararray', 'choose', 'clip', 'clongdouble', 'clongfloat', 'column_stack', 'common_type', 'compare_chararrays', 'compat', 'complex128', 'complex64', 'complex_', 'complexfloating', 'compress', 'concatenate', 'conj', 'conjugate', 'convolve', 'copy', 'copysign', 'copyto', 'core', 'corrcoef', 'correlate', 'cos', 'cosh', 'count_nonzero', 'cov', 'cross', 'csingle', 'ctypeslib', 'cumprod', 'cumproduct', 'cumsum', 'datetime64', 'datetime_as_string', 'datetime_data', 'deg2rad', 'degrees', 'delete', 'deprecate', 'deprecate_with_doc', 'diag', 'diag_indices', 'diag_indices_from', 'diagflat', 'diagonal', 'diff', 'digitize', 'disp', 'divide', 'divmod', 'dot', 'double', 'dsplit', 'dstack', 'dtype', 'e', 'ediff1d', 'einsum', 'einsum_path', 'emath', 'empty', 'empty_like', 'equal', 'errstate', 'euler_gamma', 'exp', 'exp2', 'expand_dims', 'expm1', 'extract', 'eye', 'fabs', 'fastCopyAndTranspose', 'fft', 'fill_diagonal', 'find_common_type', 'finfo', 'fix', 'flatiter', 'flatnonzero', 'flexible', 'flip', 'fliplr', 'flipud', 'float16', 'float32', 'float64', 'float_', 'float_power', 'floating', 'floor', 'floor_divide', 'fmax', 'fmin', 'fmod', 'format_float_positional', 'format_float_scientific', 'format_parser', 'frexp', 'frombuffer', 'fromfile', 'fromfunction', 'fromiter', 'frompyfunc', 'fromregex', 'fromstring', 'full', 'full_like', 'gcd', 'generic', 'genfromtxt', 'geomspace', 'get_array_wrap', 'get_include', 'get_printoptions', 'getbufsize', 'geterr', 'geterrcall', 'geterrobj', 'gradient', 'greater', 'greater_equal', 'half', 'hamming', 'hanning', 'heaviside', 'histogram', 'histogram2d', 'histogram_bin_edges', 'histogramdd', 'hsplit', 'hstack', 'hypot', 'i0', 'identity', 'iinfo', 'imag', 'in1d', 'index_exp', 'indices', 'inexact', 'inf', 'info', 'infty', 'inner', 'insert', 'int0', 'int16', 'int32', 'int64', 'int8', 'int_', 'intc', 'integer', 'interp', 'intersect1d', 'intp', 'invert', 'is_busday', 'isclose', 'iscomplex', 'iscomplexobj', 'isfinite', 'isfortran', 'isin', 'isinf', 'isnan', 'isnat', 'isneginf', 'isposinf', 'isreal', 'isrealobj', 'isscalar', 'issctype', 'issubclass_', 'issubdtype', 'issubsctype', 'iterable', 'ix_', 'kaiser', 'kron', 'lcm', 'ldexp', 'left_shift', 'less', 'less_equal', 'lexsort', 'lib', 'linalg', 'linspace', 'little_endian', 'load', 'loads', 'loadtxt', 'log', 'log10', 'log1p', 'log2', 'logaddexp', 'logaddexp2', 'logical_and', 'logical_not', 'logical_or', 'logical_xor', 'logspace', 'longcomplex', 'longdouble', 'longfloat', 'longlong', 'lookfor', 'ma', 'mafromtxt', 'mask_indices', 'mat', 'math', 'matmul', 'matrix', 'matrixlib', 'max', 'maximum', 'maximum_sctype', 'may_share_memory', 'mean', 'median', 'memmap', 'meshgrid', 'mgrid', 'min', 'min_scalar_type', 'minimum', 'mintypecode', 'mkl', 'mod', 'modf', 'moveaxis', 'msort', 'multiply', 'nan', 'nan_to_num', 'nanargmax', 'nanargmin', 'nancumprod', 'nancumsum', 'nanmax', 'nanmean', 'nanmedian', 'nanmin', 'nanpercentile', 'nanprod', 'nanquantile', 'nanstd', 'nansum', 'nanvar', 'nbytes', 'ndarray', 'ndenumerate', 'ndfromtxt', 'ndim', 'ndindex', 'nditer', 'negative', 'nested_iters', 'newaxis', 'nextafter', 'nonzero', 'not_equal', 'numarray', 'number', 'obj2sctype', 'object0', 'object_', 'ogrid', 'oldnumeric', 'ones', 'ones_like', 'os', 'outer', 'packbits', 'pad', 'partition', 'percentile', 'pi', 'piecewise', 'place', 'poly', 'poly1d', 'polyadd', 'polyder', 'polydiv', 'polyfit', 'polyint', 'polymul', 'polynomial', 'polysub', 'polyval', 'positive', 'power', 'printoptions', 'prod', 'product', 'promote_types', 'ptp', 'put', 'put_along_axis', 'putmask', 'quantile', 'r_', 'rad2deg', 'radians', 'random', 'ravel', 'ravel_multi_index', 'real', 'real_if_close', 'rec', 'recarray', 'recfromcsv', 'recfromtxt', 'reciprocal', 'record', 'remainder', 'repeat', 'require', 'reshape', 'resize', 'result_type', 'right_shift', 'rint', 'roll', 'rollaxis', 'roots', 'rot90', 'round', 'round_', 'row_stack', 's_', 'safe_eval', 'save', 'savetxt', 'savez', 'savez_compressed', 'sctype2char', 'sctypeDict', 'sctypes', 'searchsorted', 'select', 'set_numeric_ops', 'set_printoptions', 'set_string_function', 'setbufsize', 'setdiff1d', 'seterr', 'seterrcall', 'seterrobj', 'setxor1d', 'shape', 'shares_memory', 'short', 'show_config', 'sign', 'signbit', 'signedinteger', 'sin', 'sinc', 'single', 'singlecomplex', 'sinh', 'size', 'sometrue', 'sort', 'sort_complex', 'source', 'spacing', 'split', 'sqrt', 'square', 'squeeze', 'stack', 'std', 'str0', 'str_', 'string_', 'subtract', 'sum', 'swapaxes', 'sys', 'take', 'take_along_axis', 'tan', 'tanh', 'tensordot', 'test', 'testing', 'tile', 'timedelta64', 'trace', 'tracemalloc_domain', 'transpose', 'trapz', 'tri', 'tril', 'tril_indices', 'tril_indices_from', 'trim_zeros', 'triu', 'triu_indices', 'triu_indices_from', 'true_divide', 'trunc', 'typeDict', 'typecodes', 'typename', 'ubyte', 'ufunc', 'uint', 'uint0', 'uint16', 'uint32', 'uint64', 'uint8', 'uintc', 'uintp', 'ulonglong', 'unicode_', 'union1d', 'unique', 'unpackbits', 'unravel_index', 'unsignedinteger', 'unwrap', 'use_hugepage', 'ushort', 'vander', 'var', 'vdot', 'vectorize', 'version', 'void', 'void0', 'vsplit', 'vstack', 'warnings', 'where', 'who', 'zeros', 'zeros_like']\n"
     ]
    }
   ],
   "source": [
    "numpy_methods = [method for method in dir(np) if not method.startswith(\"_\")]\n",
    "print(numpy_methods)"
   ]
  },
  {
   "cell_type": "markdown",
   "id": "1ed06480",
   "metadata": {},
   "source": [
    "### NumPy `ufuncs`"
   ]
  },
  {
   "cell_type": "markdown",
   "id": "c5bf03c7",
   "metadata": {},
   "source": [
    "There are currently more than `60` universal functions defined in `numpy` on one or more types, covering a wide variety of operations. \n",
    "\n",
    "\n",
    "https://numpy.org/doc/stable/reference/ufuncs.html#available-ufuncs"
   ]
  },
  {
   "cell_type": "markdown",
   "id": "11f58265",
   "metadata": {},
   "source": [
    "### Other Subpackages"
   ]
  },
  {
   "cell_type": "markdown",
   "id": "41afcb18",
   "metadata": {},
   "source": [
    "`numpy.fft` Fast Fourier Transform\n",
    "\n",
    "`numpy.polynomial` Efficient Polynomials\n",
    "\n",
    "`numpy.linalg` Linear Algebra\n",
    "\n",
    "`numpy.math` C Standard library functions\n",
    "\n",
    "`numpy.random` Random Number Generation"
   ]
  },
  {
   "cell_type": "markdown",
   "id": "70c0bbbd",
   "metadata": {},
   "source": [
    "### Conclusion"
   ]
  },
  {
   "cell_type": "markdown",
   "id": "82b4fc09",
   "metadata": {},
   "source": [
    "`NumPy` provides a wide variety of functions capable of performing operations on `arrays` of data. Its use of `vectorization` makes these functions incredibly fast, when compared to the analogous computations performed in pure Python. "
   ]
  }
 ],
 "metadata": {
  "kernelspec": {
   "display_name": "Python 3 (ipykernel)",
   "language": "python",
   "name": "python3"
  },
  "language_info": {
   "codemirror_mode": {
    "name": "ipython",
    "version": 3
   },
   "file_extension": ".py",
   "mimetype": "text/x-python",
   "name": "python",
   "nbconvert_exporter": "python",
   "pygments_lexer": "ipython3",
   "version": "3.8.8"
  }
 },
 "nbformat": 4,
 "nbformat_minor": 5
}
