{
 "cells": [
  {
   "cell_type": "markdown",
   "id": "bb887048",
   "metadata": {},
   "source": [
    "# Introduction To NumPy"
   ]
  },
  {
   "cell_type": "markdown",
   "id": "d537e8ca",
   "metadata": {},
   "source": [
    "## What is NumPy"
   ]
  },
  {
   "cell_type": "markdown",
   "id": "418cec39",
   "metadata": {},
   "source": [
    "`NumPy`, short for `Numerical Python`, is one of the most important package for numerical computing in `Python`. `Numpy` is designed for efficiency on large `array` of `data`."
   ]
  },
  {
   "cell_type": "markdown",
   "id": "cfb7977a",
   "metadata": {},
   "source": [
    "## NumPy `array` vs Python `list`"
   ]
  },
  {
   "cell_type": "markdown",
   "id": "e8308dbc",
   "metadata": {},
   "source": [
    "The core component in `NumPy` is the `ndarray` or `multi-dimensional array`. In programming, `array` describes a collection of elements, similar to a `list`.\n",
    "\n",
    "`NumPy arrays` are faster and more compact than `Python lists`. \n",
    "\n",
    "`NumPy arrays` uses less memory to store `data` and supports more `data types`as compared to Python. `NumPy` provides a `dtype`parameter to define the `data type` (`int`, `float` etc).\n",
    "\n",
    "`NumPy` uses algorithms written in `C` that perform operations in nanoseconds rather than seconds.\n",
    "\n",
    "The `NumPy` library takes advantage of a processor feature called `Single Instruction Multiple Data` (SIMD) to process data faster.\n",
    "\n",
    "`NumPy` operations perform complex computations on entire `array` without the need for Python `for loops`."
   ]
  },
  {
   "cell_type": "markdown",
   "id": "7c3caa14",
   "metadata": {},
   "source": [
    "## The `ndarray`"
   ]
  },
  {
   "cell_type": "markdown",
   "id": "f2fef1c9",
   "metadata": {},
   "source": [
    "The fundamental object of `NumPy` is the `ndarray` which stands for `multi-dimensional array` which provides `vectorized` arithmetic operations. The word `n-dimensional` refers to the fact that `ndarrays` can have one or more dimensions. \n",
    "\n",
    "- The type of `items` in the `array` is specified by a separate `data-type object` parameter named `dtype`.\n",
    "\n",
    "- The number of dimensions in an `array` is defined by its `shape`, which is a `tuple` of `n` non-negative integers that specify the size of each dimension."
   ]
  },
  {
   "cell_type": "markdown",
   "id": "aee65dab",
   "metadata": {},
   "source": [
    "## Import `NumPy`"
   ]
  },
  {
   "cell_type": "code",
   "execution_count": 3,
   "id": "19206fae-3b3d-4c36-a056-669aa7646f6b",
   "metadata": {},
   "outputs": [],
   "source": [
    "import numpy as np"
   ]
  },
  {
   "cell_type": "code",
   "execution_count": 4,
   "id": "5d56a0ec",
   "metadata": {},
   "outputs": [
    {
     "data": {
      "text/plain": [
       "'1.20.3'"
      ]
     },
     "execution_count": 4,
     "metadata": {},
     "output_type": "execute_result"
    }
   ],
   "source": [
    "np.__version__"
   ]
  },
  {
   "cell_type": "markdown",
   "id": "182b5160",
   "metadata": {},
   "source": [
    "## NumPy `ndarrays` Object"
   ]
  },
  {
   "cell_type": "markdown",
   "id": "d3e8d4d4",
   "metadata": {},
   "source": [
    "To generate a new NumPy `ndarray` objects, we must call the `np.ndarray()` constructor."
   ]
  },
  {
   "cell_type": "markdown",
   "id": "830eaee5-0d03-4624-97bb-a9b1b2ec5829",
   "metadata": {},
   "source": [
    "### Creating a NumPy Array from a Range of Values with `np.arange`"
   ]
  },
  {
   "cell_type": "markdown",
   "id": "59aa8742",
   "metadata": {},
   "source": [
    "Create an one dimension `ndarray` using `arange` function, which is similar to python's built-in `range` function."
   ]
  },
  {
   "cell_type": "code",
   "execution_count": 5,
   "id": "beb3b2d9",
   "metadata": {},
   "outputs": [
    {
     "name": "stdout",
     "output_type": "stream",
     "text": [
      "[ 1  2  3  4  5  6  7  8  9 10 11 12 13 14]\n",
      "<class 'numpy.ndarray'>\n",
      "1\n",
      "(14,)\n",
      "int32\n",
      "4\n"
     ]
    }
   ],
   "source": [
    "# int range\n",
    "a = np.arange(1, 15)\n",
    "print(a)\n",
    "print(type(a))\n",
    "print(a.ndim)\n",
    "print(a.shape)\n",
    "print(a.dtype)\n",
    "print(a.itemsize)"
   ]
  },
  {
   "cell_type": "code",
   "execution_count": 6,
   "id": "cd3eec3a",
   "metadata": {},
   "outputs": [
    {
     "name": "stdout",
     "output_type": "stream",
     "text": [
      "[ 1.  2.  3.  4.  5.  6.  7.  8.  9. 10. 11. 12. 13. 14.]\n",
      "<class 'numpy.ndarray'>\n",
      "1\n",
      "(14,)\n",
      "float64\n",
      "8\n"
     ]
    }
   ],
   "source": [
    "# float range\n",
    "a = np.arange(1.0, 15.0)\n",
    "print(a)\n",
    "print(type(a))\n",
    "print(a.ndim)\n",
    "print(a.shape)\n",
    "print(a.dtype)\n",
    "print(a.itemsize)"
   ]
  },
  {
   "cell_type": "code",
   "execution_count": 7,
   "id": "1b7dca2b",
   "metadata": {},
   "outputs": [
    {
     "name": "stdout",
     "output_type": "stream",
     "text": [
      "[ 1  3  5  7  9 11 13]\n",
      "<class 'numpy.ndarray'>\n",
      "1\n",
      "(7,)\n",
      "int32\n",
      "4\n"
     ]
    }
   ],
   "source": [
    "# step range parameter\n",
    "a = np.arange(1, 15, 2)\n",
    "print(a)\n",
    "print(type(a))\n",
    "print(a.ndim)\n",
    "print(a.shape)\n",
    "print(a.dtype)\n",
    "print(a.itemsize)"
   ]
  },
  {
   "cell_type": "markdown",
   "id": "5eb9b98b-331e-4b7e-91eb-77059234d2c7",
   "metadata": {},
   "source": [
    "### Creating a NumPy Array from Python List with `np.array`"
   ]
  },
  {
   "cell_type": "markdown",
   "id": "3f17f448-b4ec-4348-a240-786c3fd5c8de",
   "metadata": {},
   "source": [
    "Create a `ndarray` from a python `list`."
   ]
  },
  {
   "cell_type": "code",
   "execution_count": 8,
   "id": "cf8f9585-8473-4928-aa44-3dff76f26033",
   "metadata": {},
   "outputs": [
    {
     "name": "stdout",
     "output_type": "stream",
     "text": [
      "[0, 1, 2, 3, 4, 5, 6, 7, 8, 9, 10, 11, 12, 13, 14]\n",
      "<class 'list'>\n",
      "[ 0  1  2  3  4  5  6  7  8  9 10 11 12 13 14]\n",
      "<class 'numpy.ndarray'>\n",
      "1\n",
      "(15,)\n",
      "int32\n",
      "4\n"
     ]
    }
   ],
   "source": [
    "b = [i for i in range(15)]\n",
    "print(b)\n",
    "print(type(b))\n",
    "\n",
    "c = np.array(b)\n",
    "print(c)\n",
    "print(type(c))\n",
    "print(c.ndim)\n",
    "print(c.shape)\n",
    "print(c.dtype)\n",
    "print(c.itemsize)"
   ]
  },
  {
   "cell_type": "markdown",
   "id": "5d05263e-e99d-45ad-87f9-bdf3b7010a82",
   "metadata": {},
   "source": [
    "### Creating a NumPy Array of Zeros with `np.zeros`"
   ]
  },
  {
   "cell_type": "markdown",
   "id": "0785ea65",
   "metadata": {},
   "source": [
    "The `np.zeros` function creates an `array` containing `n` number of `zeros`"
   ]
  },
  {
   "cell_type": "code",
   "execution_count": 9,
   "id": "70229277-db06-49ff-8d27-a88f15bfc256",
   "metadata": {
    "scrolled": true
   },
   "outputs": [
    {
     "name": "stdout",
     "output_type": "stream",
     "text": [
      "[0. 0. 0. 0. 0. 0. 0. 0. 0. 0.]\n",
      "<class 'numpy.ndarray'>\n",
      "1\n",
      "(10,)\n",
      "float64\n",
      "8\n"
     ]
    }
   ],
   "source": [
    "# 1 Dimension np.arrays of zeros\n",
    "One_dim_array_of_zeros = np.zeros(10)\n",
    "print(One_dim_array_of_zeros)\n",
    "print(type(One_dim_array_of_zeros))\n",
    "print(One_dim_array_of_zeros.ndim)\n",
    "print(One_dim_array_of_zeros.shape)\n",
    "print(One_dim_array_of_zeros.dtype)\n",
    "print(One_dim_array_of_zeros.itemsize)"
   ]
  },
  {
   "cell_type": "code",
   "execution_count": 10,
   "id": "e5752e18",
   "metadata": {},
   "outputs": [
    {
     "name": "stdout",
     "output_type": "stream",
     "text": [
      "[[0. 0. 0. 0. 0.]\n",
      " [0. 0. 0. 0. 0.]\n",
      " [0. 0. 0. 0. 0.]]\n",
      "<class 'numpy.ndarray'>\n",
      "2\n",
      "(3, 5)\n",
      "float64\n",
      "8\n"
     ]
    }
   ],
   "source": [
    "# 2 Dimensions np.arrays of zeros\n",
    "Two_dim_array_of_zeros = np.zeros((3, 5))\n",
    "print(Two_dim_array_of_zeros)\n",
    "print(type(Two_dim_array_of_zeros))\n",
    "print(Two_dim_array_of_zeros.ndim)\n",
    "print(Two_dim_array_of_zeros.shape)\n",
    "print(Two_dim_array_of_zeros.dtype)\n",
    "print(Two_dim_array_of_zeros.itemsize)"
   ]
  },
  {
   "cell_type": "markdown",
   "id": "84d09e03",
   "metadata": {},
   "source": [
    "### Creating a NumPy Array of Ones with `np.ones`"
   ]
  },
  {
   "cell_type": "code",
   "execution_count": 11,
   "id": "dbc0817f",
   "metadata": {},
   "outputs": [
    {
     "name": "stdout",
     "output_type": "stream",
     "text": [
      "[1. 1. 1. 1. 1. 1. 1. 1. 1. 1.]\n",
      "<class 'numpy.ndarray'>\n",
      "1\n",
      "(10,)\n",
      "float64\n",
      "8\n"
     ]
    }
   ],
   "source": [
    "# 1 Dimension np.arrays of ones\n",
    "One_dim_array_of_ones = np.ones(10)\n",
    "print(One_dim_array_of_ones)\n",
    "print(type(One_dim_array_of_ones))\n",
    "print(One_dim_array_of_ones.ndim)\n",
    "print(One_dim_array_of_ones.shape)\n",
    "print(One_dim_array_of_ones.dtype)\n",
    "print(One_dim_array_of_ones.itemsize)"
   ]
  },
  {
   "cell_type": "code",
   "execution_count": 12,
   "id": "c5d5cbb6",
   "metadata": {},
   "outputs": [
    {
     "name": "stdout",
     "output_type": "stream",
     "text": [
      "[[1. 1. 1. 1. 1.]\n",
      " [1. 1. 1. 1. 1.]\n",
      " [1. 1. 1. 1. 1.]]\n",
      "<class 'numpy.ndarray'>\n",
      "2\n",
      "(3, 5)\n",
      "float64\n",
      "8\n"
     ]
    }
   ],
   "source": [
    "# 2 Dimensions np.arrays of zeros\n",
    "Two_dim_array_of_ones = np.ones((3, 5))\n",
    "print(Two_dim_array_of_ones)\n",
    "print(type(Two_dim_array_of_ones))\n",
    "print(Two_dim_array_of_ones.ndim)\n",
    "print(Two_dim_array_of_ones.shape)\n",
    "print(Two_dim_array_of_ones.dtype)\n",
    "print(Two_dim_array_of_ones.itemsize)"
   ]
  },
  {
   "cell_type": "markdown",
   "id": "6054d409",
   "metadata": {},
   "source": [
    "### Creating a NumPy Array of randint values with `np.random.randint`"
   ]
  },
  {
   "cell_type": "code",
   "execution_count": 14,
   "id": "d546dfc3",
   "metadata": {},
   "outputs": [
    {
     "name": "stdout",
     "output_type": "stream",
     "text": [
      "[59 68 48 43 51 64 47 79 43 11 34 16 96 90 42]\n",
      "<class 'numpy.ndarray'>\n",
      "1\n",
      "(15,)\n",
      "int32\n",
      "4\n"
     ]
    }
   ],
   "source": [
    "# 1 Dimension np.arrays of random int\n",
    "One_dim_random_values = np.random.randint(1, 100, size=15)\n",
    "print(One_dim_random_values)\n",
    "print(type(One_dim_random_values))\n",
    "print(One_dim_random_values.ndim)\n",
    "print(One_dim_random_values.shape)\n",
    "print(One_dim_random_values.dtype)\n",
    "print(One_dim_random_values.itemsize)"
   ]
  },
  {
   "cell_type": "code",
   "execution_count": 15,
   "id": "b72eeb62",
   "metadata": {},
   "outputs": [
    {
     "name": "stdout",
     "output_type": "stream",
     "text": [
      "[[92 93 57 41 34]\n",
      " [33 79 90 94 62]\n",
      " [40 60 29 74 23]]\n",
      "[[92 93 57 41 34]\n",
      " [33 79 90 94 62]\n",
      " [40 60 29 74 23]]\n",
      "<class 'numpy.ndarray'>\n",
      "2\n",
      "(3, 5)\n",
      "int32\n",
      "4\n"
     ]
    }
   ],
   "source": [
    "# 2 Dimension np.arrays of random int\n",
    "two_dim_random_values = np.random.randint(1, 100, size=(3, 5))\n",
    "print(two_dim_random_values)\n",
    "print(two_dim_random_values)\n",
    "print(type(two_dim_random_values))\n",
    "print(two_dim_random_values.ndim)\n",
    "print(two_dim_random_values.shape)\n",
    "print(two_dim_random_values.dtype)\n",
    "print(two_dim_random_values.itemsize)"
   ]
  },
  {
   "cell_type": "markdown",
   "id": "99eda95b",
   "metadata": {},
   "source": [
    "### Exploring Built-in `np.random` Methods"
   ]
  },
  {
   "cell_type": "code",
   "execution_count": 19,
   "id": "682ae9d0",
   "metadata": {},
   "outputs": [
    {
     "name": "stdout",
     "output_type": "stream",
     "text": [
      "['BitGenerator', 'Generator', 'MT19937', 'PCG64', 'Philox', 'RandomState', 'SFC64', 'SeedSequence', 'beta', 'binomial', 'bit_generator', 'bytes', 'chisquare', 'choice', 'default_rng', 'dirichlet', 'exponential', 'f', 'gamma', 'geometric', 'get_state', 'gumbel', 'hypergeometric', 'laplace', 'logistic', 'lognormal', 'logseries', 'mtrand', 'multinomial', 'multivariate_normal', 'negative_binomial', 'noncentral_chisquare', 'noncentral_f', 'normal', 'pareto', 'permutation', 'poisson', 'power', 'rand', 'randint', 'randn', 'random', 'random_integers', 'random_sample', 'ranf', 'rayleigh', 'sample', 'seed', 'set_state', 'shuffle', 'standard_cauchy', 'standard_exponential', 'standard_gamma', 'standard_normal', 'standard_t', 'test', 'triangular', 'uniform', 'vonmises', 'wald', 'weibull', 'zipf']\n"
     ]
    }
   ],
   "source": [
    "random_methods = [m for m in dir(np.random) if not m.startswith(\"_\")]\n",
    "print(random_methods)"
   ]
  },
  {
   "cell_type": "markdown",
   "id": "db8b9c3b",
   "metadata": {},
   "source": [
    "### The NumPy Array Data Type `dtype`"
   ]
  },
  {
   "cell_type": "markdown",
   "id": "cffcec04",
   "metadata": {},
   "source": [
    "The `dtype` determines how the `data` is interpreted as being `floating point`, `integer`, `boolean` etc.\n",
    "\n",
    "A NumPy `array` may contain only a single `data-type`."
   ]
  },
  {
   "cell_type": "markdown",
   "id": "ec1a6633",
   "metadata": {},
   "source": [
    "- `'?' Bolean`\n",
    "- `'b' byte`\n",
    "- `'B' unsigned byte`\n",
    "- `'i' integer`\n",
    "- `'u' unsigned integer`\n",
    "- `'f' floating point`\n",
    "- `'c' complex floating point`\n",
    "- `'m' timedelta`\n",
    "- `'M' datetime`\n",
    "- `'U' unicode string`\n",
    "- `'V' raw data`\n",
    "\n",
    "The possible suffixes for `int`, `float` are `1`, `2`, `4`, `8`, `16`."
   ]
  },
  {
   "cell_type": "code",
   "execution_count": 12,
   "id": "1e64ef81",
   "metadata": {},
   "outputs": [
    {
     "name": "stdout",
     "output_type": "stream",
     "text": [
      "[ 0  1  2  3  4  5  6  7  8  9 10 11 12 13 14]\n",
      "int32\n",
      "[ 0  1  2  3  4  5  6  7  8  9 10 11 12 13 14]\n",
      "int64\n",
      "[ 0.  1.  2.  3.  4.  5.  6.  7.  8.  9. 10. 11. 12. 13. 14.]\n",
      "float32\n",
      "[ 0.  1.  2.  3.  4.  5.  6.  7.  8.  9. 10. 11. 12. 13. 14.]\n",
      "float64\n"
     ]
    }
   ],
   "source": [
    "d = np.array(list(range(15)), dtype='i4')\n",
    "print(d)\n",
    "print(d.dtype)\n",
    "\n",
    "d = np.array(list(range(15)), dtype='i8')\n",
    "print(d)\n",
    "print(d.dtype)\n",
    "\n",
    "e = np.array(list(range(15)), dtype='f4')\n",
    "print(e)\n",
    "print(e.dtype)\n",
    "\n",
    "e = np.array(list(range(15)), dtype='f8')\n",
    "print(e)\n",
    "print(e.dtype)"
   ]
  },
  {
   "cell_type": "markdown",
   "id": "a1fbbcb3",
   "metadata": {},
   "source": [
    "### Casting  an Array `dtype` with `astype`"
   ]
  },
  {
   "cell_type": "code",
   "execution_count": 13,
   "id": "ef93c815",
   "metadata": {},
   "outputs": [
    {
     "name": "stdout",
     "output_type": "stream",
     "text": [
      "[ 0  1  2  3  4  5  6  7  8  9 10 11 12 13 14]\n",
      "int32\n",
      "[ 0.  1.  2.  3.  4.  5.  6.  7.  8.  9. 10. 11. 12. 13. 14.]\n",
      "float32\n"
     ]
    }
   ],
   "source": [
    "d_int = np.array(list(range(15)), dtype='i4')\n",
    "print(d_int)\n",
    "print(d_int.dtype)\n",
    "\n",
    "d_float = d_int.astype('f4')\n",
    "print(d_float)\n",
    "print(d_float.dtype)"
   ]
  },
  {
   "cell_type": "markdown",
   "id": "2fb9b86a-fd64-4796-a849-d95d9444cb3d",
   "metadata": {},
   "source": [
    "### NumPy `ndim`"
   ]
  },
  {
   "cell_type": "markdown",
   "id": "c8485e13-33d6-4833-8b07-94d0fdb4b843",
   "metadata": {},
   "source": [
    "`ndim`determines the dimensions of the input `ndarray`."
   ]
  },
  {
   "cell_type": "code",
   "execution_count": 14,
   "id": "6b49337f-51ef-4e31-9d44-ed7e567a697f",
   "metadata": {},
   "outputs": [
    {
     "data": {
      "text/plain": [
       "1"
      ]
     },
     "execution_count": 14,
     "metadata": {},
     "output_type": "execute_result"
    }
   ],
   "source": [
    "One_dim_array_of_zeros.ndim"
   ]
  },
  {
   "cell_type": "code",
   "execution_count": 15,
   "id": "54f26f0b",
   "metadata": {},
   "outputs": [
    {
     "data": {
      "text/plain": [
       "2"
      ]
     },
     "execution_count": 15,
     "metadata": {},
     "output_type": "execute_result"
    }
   ],
   "source": [
    "Two_dim_array_of_zeros.ndim"
   ]
  },
  {
   "cell_type": "markdown",
   "id": "d0bebab4-291b-4126-bfe0-2525f60e7f1c",
   "metadata": {},
   "source": [
    "### NumPy `itemsize`"
   ]
  },
  {
   "cell_type": "markdown",
   "id": "56ec3df3-118a-4b7d-bef3-879f487fd7d3",
   "metadata": {},
   "source": [
    "determine the `size` of one array `item` in `byte`."
   ]
  },
  {
   "cell_type": "code",
   "execution_count": 16,
   "id": "6e0639ca-aca9-4243-8723-635c0d1c157c",
   "metadata": {},
   "outputs": [
    {
     "data": {
      "text/plain": [
       "8"
      ]
     },
     "execution_count": 16,
     "metadata": {},
     "output_type": "execute_result"
    }
   ],
   "source": [
    "One_dim_array_of_zeros.itemsize"
   ]
  },
  {
   "cell_type": "markdown",
   "id": "67dd1cc4-bdc7-408c-8acc-7175db1d182f",
   "metadata": {},
   "source": [
    "### NumPy `dtype`"
   ]
  },
  {
   "cell_type": "markdown",
   "id": "3ff4f354",
   "metadata": {},
   "source": [
    "determine the data `type` of the array items."
   ]
  },
  {
   "cell_type": "code",
   "execution_count": 17,
   "id": "e6898097-f9b1-44f7-a7bc-b7d017f1f40d",
   "metadata": {},
   "outputs": [
    {
     "data": {
      "text/plain": [
       "dtype('float64')"
      ]
     },
     "execution_count": 17,
     "metadata": {},
     "output_type": "execute_result"
    }
   ],
   "source": [
    "One_dim_array_of_zeros.dtype"
   ]
  },
  {
   "cell_type": "markdown",
   "id": "b52ffb47-1b9b-46ac-9a1a-820d254dfdf5",
   "metadata": {},
   "source": [
    "### NumPy `shape`"
   ]
  },
  {
   "cell_type": "markdown",
   "id": "e77bbfd6-2791-4737-a6f6-cc8822e35c09",
   "metadata": {},
   "source": [
    "determine the `shape` of the `ndarray`. `shape` return a `tuple`."
   ]
  },
  {
   "cell_type": "code",
   "execution_count": 18,
   "id": "499b3e58-4b93-45c9-a8a1-cb5b3cc33218",
   "metadata": {},
   "outputs": [
    {
     "name": "stdout",
     "output_type": "stream",
     "text": [
      "(10,)\n",
      "<class 'tuple'>\n"
     ]
    }
   ],
   "source": [
    "shape = One_dim_array_of_zeros.shape\n",
    "print(shape)\n",
    "print(type(shape))"
   ]
  },
  {
   "cell_type": "code",
   "execution_count": 19,
   "id": "145ef458",
   "metadata": {},
   "outputs": [
    {
     "name": "stdout",
     "output_type": "stream",
     "text": [
      "(3, 5)\n",
      "<class 'tuple'>\n"
     ]
    }
   ],
   "source": [
    "shape = Two_dim_array_of_zeros.shape\n",
    "print(shape)\n",
    "print(type(shape))"
   ]
  },
  {
   "cell_type": "markdown",
   "id": "0883cdf3-4006-41d0-b173-308937e3f57f",
   "metadata": {},
   "source": [
    "### Exploring Built-in `ndarray`  Methods"
   ]
  },
  {
   "cell_type": "code",
   "execution_count": 20,
   "id": "f4b22815",
   "metadata": {},
   "outputs": [
    {
     "name": "stdout",
     "output_type": "stream",
     "text": [
      "['T', 'all', 'any', 'argmax', 'argmin', 'argpartition', 'argsort', 'astype', 'base', 'byteswap', 'choose', 'clip', 'compress', 'conj', 'conjugate', 'copy', 'ctypes', 'cumprod', 'cumsum', 'data', 'diagonal', 'dot', 'dtype', 'dump', 'dumps', 'fill', 'flags', 'flat', 'flatten', 'getfield', 'imag', 'item', 'itemset', 'itemsize', 'max', 'mean', 'min', 'nbytes', 'ndim', 'newbyteorder', 'nonzero', 'partition', 'prod', 'ptp', 'put', 'ravel', 'real', 'repeat', 'reshape', 'resize', 'round', 'searchsorted', 'setfield', 'setflags', 'shape', 'size', 'sort', 'squeeze', 'std', 'strides', 'sum', 'swapaxes', 'take', 'tobytes', 'tofile', 'tolist', 'tostring', 'trace', 'transpose', 'var', 'view']\n"
     ]
    }
   ],
   "source": [
    "ndarray_methods = [method for method in dir(a) if not method.startswith(\"__\")]\n",
    "print(ndarray_methods)"
   ]
  },
  {
   "cell_type": "markdown",
   "id": "d2d361ab-21f3-4726-a826-9b0a1936efc5",
   "metadata": {},
   "source": [
    "### NumPy `reshape`"
   ]
  },
  {
   "cell_type": "markdown",
   "id": "b35e7e26",
   "metadata": {},
   "source": [
    "Create a new shape to an `ndarray` without changing its `values`."
   ]
  },
  {
   "cell_type": "code",
   "execution_count": 21,
   "id": "2d94e9a9",
   "metadata": {
    "scrolled": true
   },
   "outputs": [
    {
     "name": "stdout",
     "output_type": "stream",
     "text": [
      "[[ 0  1  2  3  4]\n",
      " [ 5  6  7  8  9]\n",
      " [10 11 12 13 14]]\n",
      "2\n",
      "15\n"
     ]
    }
   ],
   "source": [
    "a = np.arange(15)\n",
    "a = a.reshape(3, 5)\n",
    "print(a)\n",
    "print(a.ndim)\n",
    "print(a.size)"
   ]
  },
  {
   "cell_type": "markdown",
   "id": "5f98107a",
   "metadata": {},
   "source": [
    "### NumPy `indexing`"
   ]
  },
  {
   "cell_type": "markdown",
   "id": "21446083",
   "metadata": {},
   "source": [
    "In a one-dimensional `array` you can access the `value` by specifying the desired `index` in square brackets, just as with Python `list`."
   ]
  },
  {
   "cell_type": "code",
   "execution_count": 22,
   "id": "e78818cb",
   "metadata": {},
   "outputs": [
    {
     "name": "stdout",
     "output_type": "stream",
     "text": [
      "[1 2 3 4 5]\n",
      "3\n"
     ]
    }
   ],
   "source": [
    "one_dimension = np.array([1, 2, 3, 4, 5])\n",
    "print(one_dimension)\n",
    "\n",
    "print(one_dimension[2])"
   ]
  },
  {
   "cell_type": "markdown",
   "id": "b738a080",
   "metadata": {},
   "source": [
    "In a two-dimensional or multidimensional `array` you can access `values` using comma seperated tuple of indices."
   ]
  },
  {
   "cell_type": "code",
   "execution_count": 23,
   "id": "b55d4796",
   "metadata": {},
   "outputs": [
    {
     "name": "stdout",
     "output_type": "stream",
     "text": [
      "[[ 1  2  3  4  5]\n",
      " [ 6  7  8  9 10]\n",
      " [11 12 13 14 15]]\n",
      "8\n"
     ]
    }
   ],
   "source": [
    "two_dimension = np.array([[1, 2, 3, 4, 5], [6, 7, 8, 9, 10], [11, 12, 13, 14, 15]])\n",
    "print(two_dimension)\n",
    "\n",
    "print(two_dimension[1, 2])\n"
   ]
  },
  {
   "cell_type": "markdown",
   "id": "105b4818",
   "metadata": {},
   "source": [
    "### NumPy `slicing`"
   ]
  },
  {
   "cell_type": "markdown",
   "id": "d2b4efab",
   "metadata": {},
   "source": [
    "The `values` of an `subarrays` can be accessed using slice notation, marked by the colon `:`."
   ]
  },
  {
   "cell_type": "code",
   "execution_count": 24,
   "id": "3764c0eb",
   "metadata": {},
   "outputs": [
    {
     "name": "stdout",
     "output_type": "stream",
     "text": [
      "[[ 1  2  3  4  5]\n",
      " [ 6  7  8  9 10]\n",
      " [11 12 13 14 15]]\n",
      "-------\n",
      "[[1 2]\n",
      " [6 7]]\n",
      "-------\n",
      "[[ 1]\n",
      " [ 6]\n",
      " [11]]\n",
      "-------\n",
      "[[ 5]\n",
      " [10]\n",
      " [15]]\n"
     ]
    }
   ],
   "source": [
    "v = np.arange(1, 16).reshape(3, 5)\n",
    "print(v)\n",
    "print(\"-------\")\n",
    "print(v[:2, :2])\n",
    "print(\"-------\")\n",
    "print(v[0:, 0:1])\n",
    "print(\"-------\")\n",
    "print(v[0:, 4:])"
   ]
  },
  {
   "cell_type": "markdown",
   "id": "7b3eb215",
   "metadata": {},
   "source": [
    "## NumPy Performance"
   ]
  },
  {
   "cell_type": "code",
   "execution_count": 25,
   "id": "af394d91",
   "metadata": {},
   "outputs": [
    {
     "name": "stdout",
     "output_type": "stream",
     "text": [
      "[0 1 2 3 4 5 6 7 8 9]\n",
      "<class 'numpy.ndarray'>\n",
      "[0, 1, 2, 3, 4, 5, 6, 7, 8, 9]\n",
      "<class 'list'>\n"
     ]
    }
   ],
   "source": [
    "numpy_array = np.arange(10**6)\n",
    "print(numpy_array[:10])\n",
    "print(type(numpy_array))\n",
    "\n",
    "python_list = list(range(10**6))\n",
    "print(python_list[:10])\n",
    "print(type(python_list))"
   ]
  },
  {
   "cell_type": "code",
   "execution_count": 26,
   "id": "5fbaa1ac",
   "metadata": {},
   "outputs": [
    {
     "name": "stdout",
     "output_type": "stream",
     "text": [
      "Wall time: 29 ms\n"
     ]
    }
   ],
   "source": [
    "%time for _ in range(10): numpy_array_double = numpy_array * 2"
   ]
  },
  {
   "cell_type": "code",
   "execution_count": 27,
   "id": "e04aec74",
   "metadata": {},
   "outputs": [
    {
     "name": "stdout",
     "output_type": "stream",
     "text": [
      "[1999980 1999982 1999984 1999986 1999988 1999990 1999992 1999994 1999996\n",
      " 1999998]\n"
     ]
    }
   ],
   "source": [
    "print(numpy_array_double[-10:])"
   ]
  },
  {
   "cell_type": "code",
   "execution_count": 28,
   "id": "742eb43c",
   "metadata": {},
   "outputs": [
    {
     "name": "stdout",
     "output_type": "stream",
     "text": [
      "Wall time: 3 ms\n",
      "[     20      22      24 ... 1999996 1999998 2000000]\n"
     ]
    }
   ],
   "source": [
    "%time numpy_array_double = np.append(numpy_array_double, 2000000)\n",
    "print(numpy_array_double[10:])"
   ]
  },
  {
   "cell_type": "code",
   "execution_count": 29,
   "id": "ef5d135c",
   "metadata": {},
   "outputs": [
    {
     "name": "stdout",
     "output_type": "stream",
     "text": [
      "Wall time: 1.68 s\n"
     ]
    }
   ],
   "source": [
    "%time for _ in range(10): python_list_double = [i * 2 for i in python_list]"
   ]
  },
  {
   "cell_type": "code",
   "execution_count": 30,
   "id": "6b356e1b",
   "metadata": {},
   "outputs": [
    {
     "name": "stdout",
     "output_type": "stream",
     "text": [
      "Wall time: 999 µs\n",
      "[1999982, 1999984, 1999986, 1999988, 1999990, 1999992, 1999994, 1999996, 1999998, 2000000]\n"
     ]
    }
   ],
   "source": [
    "%time python_list_double.append(2000000)\n",
    "print(python_list_double[-10:])"
   ]
  },
  {
   "cell_type": "markdown",
   "id": "9db79ddd",
   "metadata": {},
   "source": [
    "## `NumPy` Concepts"
   ]
  },
  {
   "cell_type": "markdown",
   "id": "084e8ebc",
   "metadata": {},
   "source": [
    "### What is Vectorization?"
   ]
  },
  {
   "cell_type": "markdown",
   "id": "6789e897",
   "metadata": {},
   "source": [
    "`Vectorization` is a technique of replacing explicit `for-loops` with `array expressions`, which in this case can be computed internally with a `low-level` language.\n",
    "\n",
    "Vectorized operations in `NumPy` use highly optimized `C` and `Fortran` functions, making for cleaner and faster Python code."
   ]
  },
  {
   "cell_type": "markdown",
   "id": "c40b0182",
   "metadata": {},
   "source": [
    "https://en.wikipedia.org/wiki/Array_programming"
   ]
  },
  {
   "cell_type": "markdown",
   "id": "02851939",
   "metadata": {},
   "source": [
    "#### Example of vectorized function"
   ]
  },
  {
   "cell_type": "code",
   "execution_count": 31,
   "id": "6706253a",
   "metadata": {},
   "outputs": [
    {
     "name": "stdout",
     "output_type": "stream",
     "text": [
      "[[  0   1   4   9  16]\n",
      " [ 25  36  49  64  81]\n",
      " [100 121 144 169 196]]\n"
     ]
    }
   ],
   "source": [
    "p = np.power(a, 2)\n",
    "print(p)"
   ]
  },
  {
   "cell_type": "code",
   "execution_count": 32,
   "id": "7a9e8944",
   "metadata": {},
   "outputs": [
    {
     "name": "stdout",
     "output_type": "stream",
     "text": [
      "[[ 0  2  4  6  8]\n",
      " [10 12 14 16 18]\n",
      " [20 22 24 26 28]]\n"
     ]
    }
   ],
   "source": [
    "m = np.multiply(a, 2)\n",
    "print(m)"
   ]
  },
  {
   "cell_type": "code",
   "execution_count": 33,
   "id": "603ba20a",
   "metadata": {},
   "outputs": [
    {
     "name": "stdout",
     "output_type": "stream",
     "text": [
      "[[ 0.          0.84147098  0.90929743  0.14112001 -0.7568025 ]\n",
      " [-0.95892427 -0.2794155   0.6569866   0.98935825  0.41211849]\n",
      " [-0.54402111 -0.99999021 -0.53657292  0.42016704  0.99060736]]\n"
     ]
    }
   ],
   "source": [
    "s = np.sin(a)\n",
    "print(s)"
   ]
  },
  {
   "cell_type": "code",
   "execution_count": 34,
   "id": "f2bccf2e",
   "metadata": {},
   "outputs": [
    {
     "name": "stdout",
     "output_type": "stream",
     "text": [
      "[[ 1.          0.54030231 -0.41614684 -0.9899925  -0.65364362]\n",
      " [ 0.28366219  0.96017029  0.75390225 -0.14550003 -0.91113026]\n",
      " [-0.83907153  0.0044257   0.84385396  0.90744678  0.13673722]]\n"
     ]
    }
   ],
   "source": [
    "c = np.cos(a)\n",
    "print(c)"
   ]
  },
  {
   "cell_type": "markdown",
   "id": "c71b3a2c",
   "metadata": {},
   "source": [
    "### What is Broadcasting?"
   ]
  },
  {
   "cell_type": "markdown",
   "id": "93a3f6ab",
   "metadata": {},
   "source": [
    "`Broadcasting` describes how `NumPy` operate on `arrays` with different `shapes` during arithmetic operations to perform a `vectorized` calculation between them."
   ]
  },
  {
   "cell_type": "markdown",
   "id": "7820217d",
   "metadata": {},
   "source": [
    "`Machine learning` is one domain that can frequently take advantage of `vectorization` and `broadcasting`."
   ]
  },
  {
   "cell_type": "markdown",
   "id": "fb6d3512",
   "metadata": {},
   "source": [
    "## Arithmetic with NumPy Arrays"
   ]
  },
  {
   "cell_type": "markdown",
   "id": "b297c8ef",
   "metadata": {},
   "source": [
    "Any arithmetic operations between equal-size arrays applies the operation element-wise:"
   ]
  },
  {
   "cell_type": "code",
   "execution_count": 35,
   "id": "6d3dcffc",
   "metadata": {},
   "outputs": [
    {
     "name": "stdout",
     "output_type": "stream",
     "text": [
      "[[ 1  2  3  4]\n",
      " [ 5  6  7  8]\n",
      " [ 9 10 11 12]\n",
      " [13 14 15 16]\n",
      " [17 18 19 20]]\n"
     ]
    }
   ],
   "source": [
    "a = np.arange(1, 21).reshape((5, 4))\n",
    "print(a)"
   ]
  },
  {
   "cell_type": "code",
   "execution_count": 36,
   "id": "8fbe3458",
   "metadata": {},
   "outputs": [
    {
     "name": "stdout",
     "output_type": "stream",
     "text": [
      "[[ 1  2  3  4]\n",
      " [ 5  6  7  8]\n",
      " [ 9 10 11 12]\n",
      " [13 14 15 16]\n",
      " [17 18 19 20]]\n"
     ]
    }
   ],
   "source": [
    "b = np.arange(1, 21).reshape((5, 4))\n",
    "print(b)"
   ]
  },
  {
   "cell_type": "code",
   "execution_count": 37,
   "id": "e7af8ecd",
   "metadata": {},
   "outputs": [
    {
     "data": {
      "text/plain": [
       "array([[ 2,  4,  6,  8],\n",
       "       [10, 12, 14, 16],\n",
       "       [18, 20, 22, 24],\n",
       "       [26, 28, 30, 32],\n",
       "       [34, 36, 38, 40]])"
      ]
     },
     "execution_count": 37,
     "metadata": {},
     "output_type": "execute_result"
    }
   ],
   "source": [
    "a + b"
   ]
  },
  {
   "cell_type": "code",
   "execution_count": 38,
   "id": "1b3f426f",
   "metadata": {},
   "outputs": [
    {
     "data": {
      "text/plain": [
       "array([[  1,   4,   9,  16],\n",
       "       [ 25,  36,  49,  64],\n",
       "       [ 81, 100, 121, 144],\n",
       "       [169, 196, 225, 256],\n",
       "       [289, 324, 361, 400]])"
      ]
     },
     "execution_count": 38,
     "metadata": {},
     "output_type": "execute_result"
    }
   ],
   "source": [
    "a * b"
   ]
  },
  {
   "cell_type": "code",
   "execution_count": 39,
   "id": "9e12d8aa",
   "metadata": {},
   "outputs": [
    {
     "data": {
      "text/plain": [
       "array([[1., 1., 1., 1.],\n",
       "       [1., 1., 1., 1.],\n",
       "       [1., 1., 1., 1.],\n",
       "       [1., 1., 1., 1.],\n",
       "       [1., 1., 1., 1.]])"
      ]
     },
     "execution_count": 39,
     "metadata": {},
     "output_type": "execute_result"
    }
   ],
   "source": [
    "a / b"
   ]
  },
  {
   "cell_type": "code",
   "execution_count": 40,
   "id": "cbd46761",
   "metadata": {},
   "outputs": [
    {
     "data": {
      "text/plain": [
       "array([[False, False, False, False],\n",
       "       [ True,  True,  True,  True],\n",
       "       [ True,  True,  True,  True],\n",
       "       [ True,  True,  True,  True],\n",
       "       [False, False, False, False]])"
      ]
     },
     "execution_count": 40,
     "metadata": {},
     "output_type": "execute_result"
    }
   ],
   "source": [
    "np.random.shuffle(a)\n",
    "np.random.shuffle(b)\n",
    "\n",
    "a > b"
   ]
  },
  {
   "cell_type": "markdown",
   "id": "f0b67790",
   "metadata": {},
   "source": [
    "### Exploring `NumPy` Built-in Methods"
   ]
  },
  {
   "cell_type": "code",
   "execution_count": 41,
   "id": "28f0a41f",
   "metadata": {},
   "outputs": [
    {
     "name": "stdout",
     "output_type": "stream",
     "text": [
      "['ALLOW_THREADS', 'AxisError', 'BUFSIZE', 'Bytes0', 'CLIP', 'ComplexWarning', 'DataSource', 'Datetime64', 'ERR_CALL', 'ERR_DEFAULT', 'ERR_IGNORE', 'ERR_LOG', 'ERR_PRINT', 'ERR_RAISE', 'ERR_WARN', 'FLOATING_POINT_SUPPORT', 'FPE_DIVIDEBYZERO', 'FPE_INVALID', 'FPE_OVERFLOW', 'FPE_UNDERFLOW', 'False_', 'Inf', 'Infinity', 'MAXDIMS', 'MAY_SHARE_BOUNDS', 'MAY_SHARE_EXACT', 'MachAr', 'ModuleDeprecationWarning', 'NAN', 'NINF', 'NZERO', 'NaN', 'PINF', 'PZERO', 'RAISE', 'RankWarning', 'SHIFT_DIVIDEBYZERO', 'SHIFT_INVALID', 'SHIFT_OVERFLOW', 'SHIFT_UNDERFLOW', 'ScalarType', 'Str0', 'Tester', 'TooHardError', 'True_', 'UFUNC_BUFSIZE_DEFAULT', 'UFUNC_PYVALS_NAME', 'Uint64', 'VisibleDeprecationWarning', 'WRAP', 'abs', 'absolute', 'add', 'add_docstring', 'add_newdoc', 'add_newdoc_ufunc', 'alen', 'all', 'allclose', 'alltrue', 'amax', 'amin', 'angle', 'any', 'append', 'apply_along_axis', 'apply_over_axes', 'arange', 'arccos', 'arccosh', 'arcsin', 'arcsinh', 'arctan', 'arctan2', 'arctanh', 'argmax', 'argmin', 'argpartition', 'argsort', 'argwhere', 'around', 'array', 'array2string', 'array_equal', 'array_equiv', 'array_repr', 'array_split', 'array_str', 'asanyarray', 'asarray', 'asarray_chkfinite', 'ascontiguousarray', 'asfarray', 'asfortranarray', 'asmatrix', 'asscalar', 'atleast_1d', 'atleast_2d', 'atleast_3d', 'average', 'bartlett', 'base_repr', 'binary_repr', 'bincount', 'bitwise_and', 'bitwise_not', 'bitwise_or', 'bitwise_xor', 'blackman', 'block', 'bmat', 'bool8', 'bool_', 'broadcast', 'broadcast_arrays', 'broadcast_shapes', 'broadcast_to', 'busday_count', 'busday_offset', 'busdaycalendar', 'byte', 'byte_bounds', 'bytes0', 'bytes_', 'c_', 'can_cast', 'cast', 'cbrt', 'cdouble', 'ceil', 'cfloat', 'char', 'character', 'chararray', 'choose', 'clip', 'clongdouble', 'clongfloat', 'column_stack', 'common_type', 'compare_chararrays', 'compat', 'complex128', 'complex64', 'complex_', 'complexfloating', 'compress', 'concatenate', 'conj', 'conjugate', 'convolve', 'copy', 'copysign', 'copyto', 'core', 'corrcoef', 'correlate', 'cos', 'cosh', 'count_nonzero', 'cov', 'cross', 'csingle', 'ctypeslib', 'cumprod', 'cumproduct', 'cumsum', 'datetime64', 'datetime_as_string', 'datetime_data', 'deg2rad', 'degrees', 'delete', 'deprecate', 'deprecate_with_doc', 'diag', 'diag_indices', 'diag_indices_from', 'diagflat', 'diagonal', 'diff', 'digitize', 'disp', 'divide', 'divmod', 'dot', 'double', 'dsplit', 'dstack', 'dtype', 'e', 'ediff1d', 'einsum', 'einsum_path', 'emath', 'empty', 'empty_like', 'equal', 'errstate', 'euler_gamma', 'exp', 'exp2', 'expand_dims', 'expm1', 'extract', 'eye', 'fabs', 'fastCopyAndTranspose', 'fft', 'fill_diagonal', 'find_common_type', 'finfo', 'fix', 'flatiter', 'flatnonzero', 'flexible', 'flip', 'fliplr', 'flipud', 'float16', 'float32', 'float64', 'float_', 'float_power', 'floating', 'floor', 'floor_divide', 'fmax', 'fmin', 'fmod', 'format_float_positional', 'format_float_scientific', 'format_parser', 'frexp', 'frombuffer', 'fromfile', 'fromfunction', 'fromiter', 'frompyfunc', 'fromregex', 'fromstring', 'full', 'full_like', 'gcd', 'generic', 'genfromtxt', 'geomspace', 'get_array_wrap', 'get_include', 'get_printoptions', 'getbufsize', 'geterr', 'geterrcall', 'geterrobj', 'gradient', 'greater', 'greater_equal', 'half', 'hamming', 'hanning', 'heaviside', 'histogram', 'histogram2d', 'histogram_bin_edges', 'histogramdd', 'hsplit', 'hstack', 'hypot', 'i0', 'identity', 'iinfo', 'imag', 'in1d', 'index_exp', 'indices', 'inexact', 'inf', 'info', 'infty', 'inner', 'insert', 'int0', 'int16', 'int32', 'int64', 'int8', 'int_', 'intc', 'integer', 'interp', 'intersect1d', 'intp', 'invert', 'is_busday', 'isclose', 'iscomplex', 'iscomplexobj', 'isfinite', 'isfortran', 'isin', 'isinf', 'isnan', 'isnat', 'isneginf', 'isposinf', 'isreal', 'isrealobj', 'isscalar', 'issctype', 'issubclass_', 'issubdtype', 'issubsctype', 'iterable', 'ix_', 'kaiser', 'kron', 'lcm', 'ldexp', 'left_shift', 'less', 'less_equal', 'lexsort', 'lib', 'linalg', 'linspace', 'little_endian', 'load', 'loads', 'loadtxt', 'log', 'log10', 'log1p', 'log2', 'logaddexp', 'logaddexp2', 'logical_and', 'logical_not', 'logical_or', 'logical_xor', 'logspace', 'longcomplex', 'longdouble', 'longfloat', 'longlong', 'lookfor', 'ma', 'mafromtxt', 'mask_indices', 'mat', 'math', 'matmul', 'matrix', 'matrixlib', 'max', 'maximum', 'maximum_sctype', 'may_share_memory', 'mean', 'median', 'memmap', 'meshgrid', 'mgrid', 'min', 'min_scalar_type', 'minimum', 'mintypecode', 'mkl', 'mod', 'modf', 'moveaxis', 'msort', 'multiply', 'nan', 'nan_to_num', 'nanargmax', 'nanargmin', 'nancumprod', 'nancumsum', 'nanmax', 'nanmean', 'nanmedian', 'nanmin', 'nanpercentile', 'nanprod', 'nanquantile', 'nanstd', 'nansum', 'nanvar', 'nbytes', 'ndarray', 'ndenumerate', 'ndfromtxt', 'ndim', 'ndindex', 'nditer', 'negative', 'nested_iters', 'newaxis', 'nextafter', 'nonzero', 'not_equal', 'numarray', 'number', 'obj2sctype', 'object0', 'object_', 'ogrid', 'oldnumeric', 'ones', 'ones_like', 'os', 'outer', 'packbits', 'pad', 'partition', 'percentile', 'pi', 'piecewise', 'place', 'poly', 'poly1d', 'polyadd', 'polyder', 'polydiv', 'polyfit', 'polyint', 'polymul', 'polynomial', 'polysub', 'polyval', 'positive', 'power', 'printoptions', 'prod', 'product', 'promote_types', 'ptp', 'put', 'put_along_axis', 'putmask', 'quantile', 'r_', 'rad2deg', 'radians', 'random', 'ravel', 'ravel_multi_index', 'real', 'real_if_close', 'rec', 'recarray', 'recfromcsv', 'recfromtxt', 'reciprocal', 'record', 'remainder', 'repeat', 'require', 'reshape', 'resize', 'result_type', 'right_shift', 'rint', 'roll', 'rollaxis', 'roots', 'rot90', 'round', 'round_', 'row_stack', 's_', 'safe_eval', 'save', 'savetxt', 'savez', 'savez_compressed', 'sctype2char', 'sctypeDict', 'sctypes', 'searchsorted', 'select', 'set_numeric_ops', 'set_printoptions', 'set_string_function', 'setbufsize', 'setdiff1d', 'seterr', 'seterrcall', 'seterrobj', 'setxor1d', 'shape', 'shares_memory', 'short', 'show_config', 'sign', 'signbit', 'signedinteger', 'sin', 'sinc', 'single', 'singlecomplex', 'sinh', 'size', 'sometrue', 'sort', 'sort_complex', 'source', 'spacing', 'split', 'sqrt', 'square', 'squeeze', 'stack', 'std', 'str0', 'str_', 'string_', 'subtract', 'sum', 'swapaxes', 'sys', 'take', 'take_along_axis', 'tan', 'tanh', 'tensordot', 'test', 'testing', 'tile', 'timedelta64', 'trace', 'tracemalloc_domain', 'transpose', 'trapz', 'tri', 'tril', 'tril_indices', 'tril_indices_from', 'trim_zeros', 'triu', 'triu_indices', 'triu_indices_from', 'true_divide', 'trunc', 'typeDict', 'typecodes', 'typename', 'ubyte', 'ufunc', 'uint', 'uint0', 'uint16', 'uint32', 'uint64', 'uint8', 'uintc', 'uintp', 'ulonglong', 'unicode_', 'union1d', 'unique', 'unpackbits', 'unravel_index', 'unsignedinteger', 'unwrap', 'use_hugepage', 'ushort', 'vander', 'var', 'vdot', 'vectorize', 'version', 'void', 'void0', 'vsplit', 'vstack', 'warnings', 'where', 'who', 'zeros', 'zeros_like']\n"
     ]
    }
   ],
   "source": [
    "numpy_methods = [method for method in dir(np) if not method.startswith(\"_\")]\n",
    "print(numpy_methods)"
   ]
  },
  {
   "cell_type": "markdown",
   "id": "1ed06480",
   "metadata": {},
   "source": [
    "### NumPy `ufuncs`"
   ]
  },
  {
   "cell_type": "markdown",
   "id": "c5bf03c7",
   "metadata": {},
   "source": [
    "There are currently more than `60` universal functions defined in `numpy` on one or more types, covering a wide variety of operations. \n",
    "\n",
    "\n",
    "https://numpy.org/doc/stable/reference/ufuncs.html#available-ufuncs"
   ]
  },
  {
   "cell_type": "markdown",
   "id": "11f58265",
   "metadata": {},
   "source": [
    "### Other Subpackages"
   ]
  },
  {
   "cell_type": "markdown",
   "id": "41afcb18",
   "metadata": {},
   "source": [
    "`numpy.fft` Fast Fourier Transform\n",
    "\n",
    "`numpy.polynomial` Efficient Polynomials\n",
    "\n",
    "`numpy.linalg` Linear Algebra\n",
    "\n",
    "`numpy.math` C Standard library functions\n",
    "\n",
    "`numpy.random` Random Number Generation"
   ]
  },
  {
   "cell_type": "markdown",
   "id": "70c0bbbd",
   "metadata": {},
   "source": [
    "### Conclusion"
   ]
  },
  {
   "cell_type": "markdown",
   "id": "82b4fc09",
   "metadata": {},
   "source": [
    "`NumPy` provides a wide variety of functions capable of performing operations on `arrays` of data. Its use of `vectorization` makes these functions incredibly fast, when compared to the analogous computations performed in pure Python. "
   ]
  }
 ],
 "metadata": {
  "kernelspec": {
   "display_name": "Python 3 (ipykernel)",
   "language": "python",
   "name": "python3"
  },
  "language_info": {
   "codemirror_mode": {
    "name": "ipython",
    "version": 3
   },
   "file_extension": ".py",
   "mimetype": "text/x-python",
   "name": "python",
   "nbconvert_exporter": "python",
   "pygments_lexer": "ipython3",
   "version": "3.8.8"
  }
 },
 "nbformat": 4,
 "nbformat_minor": 5
}
