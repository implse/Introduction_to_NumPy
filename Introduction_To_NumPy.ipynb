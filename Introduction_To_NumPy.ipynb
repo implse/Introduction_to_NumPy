{
 "cells": [
  {
   "cell_type": "markdown",
   "id": "bb887048",
   "metadata": {},
   "source": [
    "# Introduction To NumPy"
   ]
  },
  {
   "cell_type": "markdown",
   "id": "d537e8ca",
   "metadata": {},
   "source": [
    "## What is NumPy"
   ]
  },
  {
   "cell_type": "markdown",
   "id": "418cec39",
   "metadata": {},
   "source": [
    "`NumPy`, short for `Numerical Python`, is one of the most important package for numerical computing in `Python`. `Numpy` is designed for efficiency on large `array` of `data`."
   ]
  },
  {
   "cell_type": "markdown",
   "id": "0290e035",
   "metadata": {},
   "source": [
    "- `NumPy` internally stores data in a contiguous block of `memory`, independent of other built-in Python objects. NumPy’s library of algorithms written in `C` can operate on this `memory` without any `type` checking or other overhead.\n",
    "\n",
    "\n",
    "- `NumPy arrays` use less memory than built-in Python sequences.\n",
    "\n",
    "- `NumPy` uses algorithms written in `C` that runs in nanoseconds rather than seconds.\n",
    "\n",
    "- `NumPy` operations perform complex computations on entire `array` without the need for Python for loops."
   ]
  },
  {
   "cell_type": "markdown",
   "id": "cfb7977a",
   "metadata": {},
   "source": [
    "## NumPy array vs Python List"
   ]
  },
  {
   "cell_type": "markdown",
   "id": "e8308dbc",
   "metadata": {},
   "source": [
    "`NumPy arrays` are faster and more compact than `Python lists`. \n",
    "\n",
    "`NumPy arrays` uses less memory to store `data` and supports more `data types`as compared to Python. `NumPy` provides a `dtype`parameter to define the `data type` (`int`, `float` etc).\n",
    "\n",
    "`NumPy` uses algorithms written in `C` that perform operations in nanoseconds rather than seconds.\n"
   ]
  },
  {
   "cell_type": "markdown",
   "id": "7c3caa14",
   "metadata": {},
   "source": [
    "## The `ndarray`"
   ]
  },
  {
   "cell_type": "markdown",
   "id": "f2fef1c9",
   "metadata": {},
   "source": [
    "The fundamental object of `NumPy` is the `ndarray` which stands for `multi-dimensional array` which provides vectorized arithmetic operations.\n",
    "\n",
    "- The type of `items` in the `array` is specified by a separate `data-type object` parameter named `dtype`.\n",
    "\n",
    "- The number of dimensions in an `array` is defined by its `shape`, which is a `tuple` of `n` non-negative integers that specify the size of each dimension."
   ]
  },
  {
   "cell_type": "markdown",
   "id": "5c88e8d6-9e79-4d51-91c1-5b100c326540",
   "metadata": {},
   "source": [
    "## The Array Element Type `dtype`"
   ]
  },
  {
   "cell_type": "markdown",
   "id": "c0b4536f-e757-42a9-8d04-d168f84d600a",
   "metadata": {},
   "source": [
    "The `dtype` determines how the `data` is interpreted as being `floating point`, `integer`, `boolean` etc."
   ]
  },
  {
   "cell_type": "markdown",
   "id": "182b5160",
   "metadata": {},
   "source": [
    "### Creating Your First NumPy `ndarrays`"
   ]
  },
  {
   "cell_type": "code",
   "execution_count": 3,
   "id": "19206fae-3b3d-4c36-a056-669aa7646f6b",
   "metadata": {},
   "outputs": [],
   "source": [
    "import numpy as np"
   ]
  },
  {
   "cell_type": "code",
   "execution_count": 4,
   "id": "5d56a0ec",
   "metadata": {},
   "outputs": [
    {
     "data": {
      "text/plain": [
       "'1.20.3'"
      ]
     },
     "execution_count": 4,
     "metadata": {},
     "output_type": "execute_result"
    }
   ],
   "source": [
    "np.__version__"
   ]
  },
  {
   "cell_type": "markdown",
   "id": "830eaee5-0d03-4624-97bb-a9b1b2ec5829",
   "metadata": {},
   "source": [
    "### Range Of Values"
   ]
  },
  {
   "cell_type": "markdown",
   "id": "59aa8742",
   "metadata": {},
   "source": [
    "Create an one dimension `ndarray` using `arange` function, which is similar to python's built-in `range` function."
   ]
  },
  {
   "cell_type": "code",
   "execution_count": 32,
   "id": "beb3b2d9",
   "metadata": {},
   "outputs": [
    {
     "name": "stdout",
     "output_type": "stream",
     "text": [
      "[ 1  2  3  4  5  6  7  8  9 10 11 12 13 14]\n",
      "<class 'numpy.ndarray'>\n",
      "1\n",
      "(14,)\n",
      "int32\n",
      "4\n"
     ]
    }
   ],
   "source": [
    "# int range\n",
    "a = np.arange(1, 15)\n",
    "print(a)\n",
    "print(type(a))\n",
    "print(a.ndim)\n",
    "print(a.shape)\n",
    "print(a.dtype)\n",
    "print(a.itemsize)"
   ]
  },
  {
   "cell_type": "code",
   "execution_count": 34,
   "id": "793a69da",
   "metadata": {},
   "outputs": [
    {
     "name": "stdout",
     "output_type": "stream",
     "text": [
      "[ 1.  2.  3.  4.  5.  6.  7.  8.  9. 10. 11. 12. 13. 14.]\n",
      "<class 'numpy.ndarray'>\n",
      "1\n",
      "(14,)\n",
      "float64\n",
      "8\n"
     ]
    }
   ],
   "source": [
    "# float range\n",
    "a = np.arange(1.0, 15.0)\n",
    "print(a)\n",
    "print(type(a))\n",
    "print(a.ndim)\n",
    "print(a.shape)\n",
    "print(a.dtype)\n",
    "print(a.itemsize)"
   ]
  },
  {
   "cell_type": "code",
   "execution_count": 36,
   "id": "16dfedc3",
   "metadata": {},
   "outputs": [
    {
     "name": "stdout",
     "output_type": "stream",
     "text": [
      "[ 1  3  5  7  9 11 13]\n",
      "<class 'numpy.ndarray'>\n",
      "1\n",
      "(7,)\n",
      "int32\n",
      "4\n"
     ]
    }
   ],
   "source": [
    "# step range parameter\n",
    "a = np.arange(1, 15, 2)\n",
    "print(a)\n",
    "print(type(a))\n",
    "print(a.ndim)\n",
    "print(a.shape)\n",
    "print(a.dtype)\n",
    "print(a.itemsize)"
   ]
  },
  {
   "cell_type": "markdown",
   "id": "5eb9b98b-331e-4b7e-91eb-77059234d2c7",
   "metadata": {},
   "source": [
    "### From A List Of Values"
   ]
  },
  {
   "cell_type": "markdown",
   "id": "3f17f448-b4ec-4348-a240-786c3fd5c8de",
   "metadata": {},
   "source": [
    "Create a `ndarray` from a python `list`."
   ]
  },
  {
   "cell_type": "code",
   "execution_count": 6,
   "id": "cf8f9585-8473-4928-aa44-3dff76f26033",
   "metadata": {},
   "outputs": [
    {
     "name": "stdout",
     "output_type": "stream",
     "text": [
      "[0, 1, 2, 3, 4, 5, 6, 7, 8, 9, 10, 11, 12, 13, 14]\n",
      "<class 'list'>\n",
      "[ 0  1  2  3  4  5  6  7  8  9 10 11 12 13 14]\n",
      "<class 'numpy.ndarray'>\n",
      "1\n",
      "(15,)\n",
      "int32\n",
      "4\n"
     ]
    }
   ],
   "source": [
    "b = [i for i in range(15)]\n",
    "print(b)\n",
    "print(type(b))\n",
    "\n",
    "c = np.array(b)\n",
    "print(c)\n",
    "print(type(c))\n",
    "print(c.ndim)\n",
    "print(c.shape)\n",
    "print(c.dtype)\n",
    "print(c.itemsize)"
   ]
  },
  {
   "cell_type": "markdown",
   "id": "5d05263e-e99d-45ad-87f9-bdf3b7010a82",
   "metadata": {},
   "source": [
    "### Create An Array Of Zeros with `np.zeros`"
   ]
  },
  {
   "cell_type": "markdown",
   "id": "898de97d",
   "metadata": {},
   "source": [
    "The `np.zeros` function creates an `array` containing `n` number of `zeros`"
   ]
  },
  {
   "cell_type": "code",
   "execution_count": 15,
   "id": "70229277-db06-49ff-8d27-a88f15bfc256",
   "metadata": {
    "scrolled": true
   },
   "outputs": [
    {
     "name": "stdout",
     "output_type": "stream",
     "text": [
      "[0. 0. 0. 0. 0. 0. 0. 0. 0. 0.]\n",
      "<class 'numpy.ndarray'>\n",
      "1\n",
      "(10,)\n",
      "float64\n",
      "8\n"
     ]
    }
   ],
   "source": [
    "# 1 Dimension np.arrays of zeros\n",
    "One_dim_array_of_zeros = np.zeros(10)\n",
    "print(One_dim_array_of_zeros)\n",
    "print(type(One_dim_array_of_zeros))\n",
    "print(One_dim_array_of_zeros.ndim)\n",
    "print(One_dim_array_of_zeros.shape)\n",
    "print(One_dim_array_of_zeros.dtype)\n",
    "print(One_dim_array_of_zeros.itemsize)"
   ]
  },
  {
   "cell_type": "code",
   "execution_count": 16,
   "id": "289ef737",
   "metadata": {},
   "outputs": [
    {
     "name": "stdout",
     "output_type": "stream",
     "text": [
      "[[0. 0. 0. 0. 0.]\n",
      " [0. 0. 0. 0. 0.]\n",
      " [0. 0. 0. 0. 0.]]\n",
      "<class 'numpy.ndarray'>\n",
      "2\n",
      "(3, 5)\n",
      "float64\n",
      "8\n"
     ]
    }
   ],
   "source": [
    "# 2 Dimensions np.arrays of zeros\n",
    "Two_dim_array_of_zeros = np.zeros((3, 5))\n",
    "print(Two_dim_array_of_zeros)\n",
    "print(type(Two_dim_array_of_zeros))\n",
    "print(Two_dim_array_of_zeros.ndim)\n",
    "print(Two_dim_array_of_zeros.shape)\n",
    "print(Two_dim_array_of_zeros.dtype)\n",
    "print(Two_dim_array_of_zeros.itemsize)"
   ]
  },
  {
   "cell_type": "markdown",
   "id": "fc6e10c6",
   "metadata": {},
   "source": [
    "### Create An Array Of Ones with `np.ones`"
   ]
  },
  {
   "cell_type": "code",
   "execution_count": 28,
   "id": "4fed7d8f",
   "metadata": {},
   "outputs": [
    {
     "name": "stdout",
     "output_type": "stream",
     "text": [
      "[1. 1. 1. 1. 1. 1. 1. 1. 1. 1.]\n",
      "<class 'numpy.ndarray'>\n",
      "1\n",
      "(10,)\n",
      "float64\n",
      "8\n"
     ]
    }
   ],
   "source": [
    "# 1 Dimension np.arrays of ones\n",
    "One_dim_array_of_ones = np.ones(10)\n",
    "print(One_dim_array_of_ones)\n",
    "print(type(One_dim_array_of_ones))\n",
    "print(One_dim_array_of_ones.ndim)\n",
    "print(One_dim_array_of_ones.shape)\n",
    "print(One_dim_array_of_ones.dtype)\n",
    "print(One_dim_array_of_ones.itemsize)"
   ]
  },
  {
   "cell_type": "code",
   "execution_count": 31,
   "id": "fce86fb7",
   "metadata": {},
   "outputs": [
    {
     "name": "stdout",
     "output_type": "stream",
     "text": [
      "[[1. 1. 1. 1. 1.]\n",
      " [1. 1. 1. 1. 1.]\n",
      " [1. 1. 1. 1. 1.]]\n",
      "<class 'numpy.ndarray'>\n",
      "2\n",
      "(3, 5)\n",
      "float64\n",
      "8\n"
     ]
    }
   ],
   "source": [
    "# 2 Dimensions np.arrays of zeros\n",
    "Two_dim_array_of_ones = np.ones((3, 5))\n",
    "print(Two_dim_array_of_ones)\n",
    "print(type(Two_dim_array_of_ones))\n",
    "print(Two_dim_array_of_ones.ndim)\n",
    "print(Two_dim_array_of_ones.shape)\n",
    "print(Two_dim_array_of_ones.dtype)\n",
    "print(Two_dim_array_of_ones.itemsize)"
   ]
  },
  {
   "cell_type": "markdown",
   "id": "2fb9b86a-fd64-4796-a849-d95d9444cb3d",
   "metadata": {},
   "source": [
    "### NumPy `ndim`"
   ]
  },
  {
   "cell_type": "markdown",
   "id": "c8485e13-33d6-4833-8b07-94d0fdb4b843",
   "metadata": {},
   "source": [
    "`ndim`determines the dimensions of the input `ndarray`."
   ]
  },
  {
   "cell_type": "code",
   "execution_count": 17,
   "id": "6b49337f-51ef-4e31-9d44-ed7e567a697f",
   "metadata": {},
   "outputs": [
    {
     "data": {
      "text/plain": [
       "1"
      ]
     },
     "execution_count": 17,
     "metadata": {},
     "output_type": "execute_result"
    }
   ],
   "source": [
    "One_dim_array_of_zeros.ndim"
   ]
  },
  {
   "cell_type": "code",
   "execution_count": 18,
   "id": "f299ea1b",
   "metadata": {},
   "outputs": [
    {
     "data": {
      "text/plain": [
       "2"
      ]
     },
     "execution_count": 18,
     "metadata": {},
     "output_type": "execute_result"
    }
   ],
   "source": [
    "Two_dim_array_of_zeros.ndim"
   ]
  },
  {
   "cell_type": "markdown",
   "id": "d0bebab4-291b-4126-bfe0-2525f60e7f1c",
   "metadata": {},
   "source": [
    "### NumPy `itemsize`"
   ]
  },
  {
   "cell_type": "markdown",
   "id": "56ec3df3-118a-4b7d-bef3-879f487fd7d3",
   "metadata": {},
   "source": [
    "determine the `size` of one array `item` in `byte`."
   ]
  },
  {
   "cell_type": "code",
   "execution_count": 24,
   "id": "6e0639ca-aca9-4243-8723-635c0d1c157c",
   "metadata": {},
   "outputs": [
    {
     "data": {
      "text/plain": [
       "8"
      ]
     },
     "execution_count": 24,
     "metadata": {},
     "output_type": "execute_result"
    }
   ],
   "source": [
    "One_dim_array_of_zeros.itemsize"
   ]
  },
  {
   "cell_type": "markdown",
   "id": "67dd1cc4-bdc7-408c-8acc-7175db1d182f",
   "metadata": {},
   "source": [
    "### NumPy `dtype`"
   ]
  },
  {
   "cell_type": "markdown",
   "id": "4abc615b",
   "metadata": {},
   "source": [
    "determine the data `type` of the array items."
   ]
  },
  {
   "cell_type": "code",
   "execution_count": 25,
   "id": "e6898097-f9b1-44f7-a7bc-b7d017f1f40d",
   "metadata": {},
   "outputs": [
    {
     "data": {
      "text/plain": [
       "dtype('float64')"
      ]
     },
     "execution_count": 25,
     "metadata": {},
     "output_type": "execute_result"
    }
   ],
   "source": [
    "One_dim_array_of_zeros.dtype"
   ]
  },
  {
   "cell_type": "markdown",
   "id": "b52ffb47-1b9b-46ac-9a1a-820d254dfdf5",
   "metadata": {},
   "source": [
    "### NumPy `shape`"
   ]
  },
  {
   "cell_type": "markdown",
   "id": "e77bbfd6-2791-4737-a6f6-cc8822e35c09",
   "metadata": {},
   "source": [
    "determine the `shape` of the `ndarray`. `shape` return a `tuple`."
   ]
  },
  {
   "cell_type": "code",
   "execution_count": 26,
   "id": "499b3e58-4b93-45c9-a8a1-cb5b3cc33218",
   "metadata": {},
   "outputs": [
    {
     "name": "stdout",
     "output_type": "stream",
     "text": [
      "(10,)\n",
      "<class 'tuple'>\n"
     ]
    }
   ],
   "source": [
    "shape = One_dim_array_of_zeros.shape\n",
    "print(shape)\n",
    "print(type(shape))"
   ]
  },
  {
   "cell_type": "code",
   "execution_count": 27,
   "id": "2eaf12bf",
   "metadata": {},
   "outputs": [
    {
     "name": "stdout",
     "output_type": "stream",
     "text": [
      "(3, 5)\n",
      "<class 'tuple'>\n"
     ]
    }
   ],
   "source": [
    "shape = Two_dim_array_of_zeros.shape\n",
    "print(shape)\n",
    "print(type(shape))"
   ]
  },
  {
   "cell_type": "markdown",
   "id": "0883cdf3-4006-41d0-b173-308937e3f57f",
   "metadata": {},
   "source": [
    "### Built-in `ndarray`  Methods"
   ]
  },
  {
   "cell_type": "code",
   "execution_count": null,
   "id": "f4b22815",
   "metadata": {},
   "outputs": [],
   "source": [
    "ndarray_methods = [method for method in dir(a) if not method.startswith(\"__\")]\n",
    "print(ndarray_methods)"
   ]
  },
  {
   "cell_type": "markdown",
   "id": "d2d361ab-21f3-4726-a826-9b0a1936efc5",
   "metadata": {},
   "source": [
    "### NumPy `reshape`"
   ]
  },
  {
   "cell_type": "markdown",
   "id": "b35e7e26",
   "metadata": {},
   "source": [
    "Create a new shape to an `ndarray` without changing its `values`."
   ]
  },
  {
   "cell_type": "code",
   "execution_count": null,
   "id": "2d94e9a9",
   "metadata": {
    "scrolled": true
   },
   "outputs": [],
   "source": [
    "a = a.reshape(3, 5)\n",
    "print(a)\n",
    "print(a.ndim)\n",
    "print(a.size)"
   ]
  },
  {
   "cell_type": "markdown",
   "id": "5f98107a",
   "metadata": {},
   "source": [
    "### NumPy `indexing`"
   ]
  },
  {
   "cell_type": "markdown",
   "id": "21446083",
   "metadata": {},
   "source": [
    "In a one-dimensional `array` you can access the `value` by specifying the desired `index` in square brackets, just as with Python `list`."
   ]
  },
  {
   "cell_type": "code",
   "execution_count": null,
   "id": "e78818cb",
   "metadata": {},
   "outputs": [],
   "source": [
    "one_dimension = np.array([1, 2, 3, 4, 5])\n",
    "print(one_dimension)\n",
    "\n",
    "print(one_dimension[2])"
   ]
  },
  {
   "cell_type": "markdown",
   "id": "b738a080",
   "metadata": {},
   "source": [
    "In a two-dimensional or multidimensional `array` you can access `values` using comma seperated tuple of indices."
   ]
  },
  {
   "cell_type": "code",
   "execution_count": null,
   "id": "b55d4796",
   "metadata": {},
   "outputs": [],
   "source": [
    "two_dimension = np.array([[1, 2, 3, 4, 5], [6, 7, 8, 9, 10], [11, 12, 13, 14, 15]])\n",
    "print(two_dimension)\n",
    "\n",
    "print(two_dimension[1, 2])\n"
   ]
  },
  {
   "cell_type": "markdown",
   "id": "105b4818",
   "metadata": {},
   "source": [
    "### NumPy `slicing`"
   ]
  },
  {
   "cell_type": "markdown",
   "id": "d2b4efab",
   "metadata": {},
   "source": [
    "The `values` of an `subarrays` can be accessed using slice notation, marked by the colon `:`."
   ]
  },
  {
   "cell_type": "code",
   "execution_count": null,
   "id": "3764c0eb",
   "metadata": {},
   "outputs": [],
   "source": [
    "v = np.arange(1, 16).reshape(3, 5)\n",
    "print(v)\n",
    "print(\"-------\")\n",
    "print(v[:2, :2])\n",
    "print(\"-------\")\n",
    "print(v[0:, 0:1])\n",
    "print(\"-------\")\n",
    "print(v[0:, 4:])"
   ]
  },
  {
   "cell_type": "markdown",
   "id": "9d29b6d7-099a-4691-b779-aaf012498a99",
   "metadata": {},
   "source": [
    "### Data Type `dtype`"
   ]
  },
  {
   "cell_type": "markdown",
   "id": "ce4c4314",
   "metadata": {},
   "source": [
    "A numpy `array` may contain only a single `data-type` described by a `dtype`."
   ]
  },
  {
   "cell_type": "code",
   "execution_count": null,
   "id": "083c65bf",
   "metadata": {},
   "outputs": [],
   "source": [
    "d = np.array(list(range(15)), dtype='int')\n",
    "print(d)\n",
    "print(d.dtype)\n",
    "\n",
    "e = np.array(list(range(15)), dtype='float')\n",
    "print(e)\n",
    "print(e.dtype)"
   ]
  },
  {
   "cell_type": "markdown",
   "id": "7b3eb215",
   "metadata": {},
   "source": [
    "## NumPy Performance"
   ]
  },
  {
   "cell_type": "code",
   "execution_count": null,
   "id": "af394d91",
   "metadata": {},
   "outputs": [],
   "source": [
    "numpy_array = np.arange(10**6)\n",
    "print(numpy_array[:10])\n",
    "print(type(numpy_array))\n",
    "\n",
    "python_list = list(range(10**6))\n",
    "print(python_list[:10])\n",
    "print(type(python_list))"
   ]
  },
  {
   "cell_type": "code",
   "execution_count": null,
   "id": "5fbaa1ac",
   "metadata": {},
   "outputs": [],
   "source": [
    "%time for _ in range(10): numpy_array_double = numpy_array * 2"
   ]
  },
  {
   "cell_type": "code",
   "execution_count": null,
   "id": "e04aec74",
   "metadata": {},
   "outputs": [],
   "source": [
    "print(numpy_array_double[-10:])"
   ]
  },
  {
   "cell_type": "code",
   "execution_count": null,
   "id": "742eb43c",
   "metadata": {},
   "outputs": [],
   "source": [
    "%time numpy_array_double = np.append(numpy_array_double, 2000000)\n",
    "print(numpy_array_double[10:])"
   ]
  },
  {
   "cell_type": "code",
   "execution_count": null,
   "id": "ef5d135c",
   "metadata": {},
   "outputs": [],
   "source": [
    "%time for _ in range(10): python_list_double = [i * 2 for i in python_list]"
   ]
  },
  {
   "cell_type": "code",
   "execution_count": null,
   "id": "6b356e1b",
   "metadata": {},
   "outputs": [],
   "source": [
    "%time python_list_double.append(2000000)\n",
    "print(python_list_double[-10:])"
   ]
  },
  {
   "cell_type": "markdown",
   "id": "9db79ddd",
   "metadata": {},
   "source": [
    "## `NumPy` Concepts"
   ]
  },
  {
   "cell_type": "markdown",
   "id": "084e8ebc",
   "metadata": {},
   "source": [
    "### What is Vectorization?"
   ]
  },
  {
   "cell_type": "markdown",
   "id": "6789e897",
   "metadata": {},
   "source": [
    "`Vectorization` is a technique of replacing explicit `for-loops` with `array expressions`, which in this case can be computed internally with a `low-level` language.\n",
    "\n",
    "Vectorized operations in `NumPy` use highly optimized `C` and `Fortran` functions, making for cleaner and faster Python code."
   ]
  },
  {
   "cell_type": "markdown",
   "id": "06f2e1d8",
   "metadata": {},
   "source": [
    "https://en.wikipedia.org/wiki/Array_programming"
   ]
  },
  {
   "cell_type": "markdown",
   "id": "02851939",
   "metadata": {},
   "source": [
    "#### Example of vectorized function"
   ]
  },
  {
   "cell_type": "code",
   "execution_count": null,
   "id": "6706253a",
   "metadata": {},
   "outputs": [],
   "source": [
    "p = np.power(a, 2)\n",
    "print(p)"
   ]
  },
  {
   "cell_type": "code",
   "execution_count": null,
   "id": "7a9e8944",
   "metadata": {},
   "outputs": [],
   "source": [
    "m = np.multiply(a, 2)\n",
    "print(m)"
   ]
  },
  {
   "cell_type": "code",
   "execution_count": null,
   "id": "603ba20a",
   "metadata": {},
   "outputs": [],
   "source": [
    "s = np.sin(a)\n",
    "print(s)"
   ]
  },
  {
   "cell_type": "code",
   "execution_count": null,
   "id": "f2bccf2e",
   "metadata": {},
   "outputs": [],
   "source": [
    "c = np.cos(a)\n",
    "print(c)"
   ]
  },
  {
   "cell_type": "markdown",
   "id": "c71b3a2c",
   "metadata": {},
   "source": [
    "### What is Broadcasting?"
   ]
  },
  {
   "cell_type": "markdown",
   "id": "93a3f6ab",
   "metadata": {},
   "source": [
    "`Broadcasting` describes how `NumPy` operate on `arrays` with different `shapes` during arithmetic operations to perform a `vectorized` calculation between them."
   ]
  },
  {
   "cell_type": "markdown",
   "id": "bf9b9c35",
   "metadata": {},
   "source": [
    "`Machine learning` is one domain that can frequently take advantage of `vectorization` and `broadcasting`."
   ]
  },
  {
   "cell_type": "markdown",
   "id": "f0b67790",
   "metadata": {},
   "source": [
    "### Built-in NumPy Methodds"
   ]
  },
  {
   "cell_type": "code",
   "execution_count": null,
   "id": "55fb5d7b",
   "metadata": {},
   "outputs": [],
   "source": [
    "numpy_methods = [method for method in dir(np) if not method.startswith(\"_\")]\n",
    "print(numpy_methods)"
   ]
  },
  {
   "cell_type": "markdown",
   "id": "1ed06480",
   "metadata": {},
   "source": [
    "### NumPy `ufuncs`"
   ]
  },
  {
   "cell_type": "markdown",
   "id": "c5bf03c7",
   "metadata": {},
   "source": [
    "There are currently more than `60` universal functions defined in `numpy` on one or more types, covering a wide variety of operations. \n",
    "\n",
    "\n",
    "https://numpy.org/doc/stable/reference/ufuncs.html#available-ufuncs"
   ]
  },
  {
   "cell_type": "markdown",
   "id": "11f58265",
   "metadata": {},
   "source": [
    "### Other Subpackages"
   ]
  },
  {
   "cell_type": "markdown",
   "id": "41afcb18",
   "metadata": {},
   "source": [
    "`numpy.fft` Fast Fourier Transform\n",
    "\n",
    "`numpy.polynomial` Efficient Polynomials\n",
    "\n",
    "`numpy.linalg` Linear Algebra\n",
    "\n",
    "`numpy.math` C Standard library functions\n",
    "\n",
    "`numpy.random` Random Number Generation"
   ]
  },
  {
   "cell_type": "markdown",
   "id": "70c0bbbd",
   "metadata": {},
   "source": [
    "### Conclusion"
   ]
  },
  {
   "cell_type": "markdown",
   "id": "82b4fc09",
   "metadata": {},
   "source": [
    "`NumPy` provides a wide variety of functions capable of performing operations on `arrays` of data. Its use of `vectorization` makes these functions incredibly fast, when compared to the analogous computations performed in pure Python. "
   ]
  }
 ],
 "metadata": {
  "kernelspec": {
   "display_name": "Python 3 (ipykernel)",
   "language": "python",
   "name": "python3"
  },
  "language_info": {
   "codemirror_mode": {
    "name": "ipython",
    "version": 3
   },
   "file_extension": ".py",
   "mimetype": "text/x-python",
   "name": "python",
   "nbconvert_exporter": "python",
   "pygments_lexer": "ipython3",
   "version": "3.8.8"
  }
 },
 "nbformat": 4,
 "nbformat_minor": 5
}
